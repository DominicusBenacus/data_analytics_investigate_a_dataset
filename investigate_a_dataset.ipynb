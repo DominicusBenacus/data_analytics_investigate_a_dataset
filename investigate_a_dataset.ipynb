{
 "cells": [
  {
   "cell_type": "markdown",
   "metadata": {},
   "source": [
    "# Investigate revenue drivers\n",
    "\n",
    "## Table of Contents\n",
    "<ul>\n",
    "<li><a href=\"#intro\">Introduction</a></li>\n",
    "<li><a href=\"#wrangling\">Data Wrangling</a></li>\n",
    "<li><a href=\"#eda\">Exploratory Data Analysis</a></li>\n",
    "<li><a href=\"#conclusions\">Conclusions</a></li>\n",
    "</ul>"
   ]
  },
  {
   "cell_type": "markdown",
   "metadata": {},
   "source": [
    "<a id='intro'></a>\n",
    "## Introduction\n",
    "\n",
    "> This data set contains information about 10,000 movies collected from The Movie Database (TMDb), including user ratings and revenue.\n",
    "* Certain columns, like ‘cast’ and ‘genres’, contain multiple values separated by pipe (|) characters.\n",
    "* There are some odd characters in the ‘cast’ column. Don’t worry about cleaning them. You can leave them as is.\n",
    "* The final two columns ending with “_adj” show the budget and revenue of the associated movie in terms of 2010 dollars,account\n",
    "\n",
    "## Questions we want to answer while analysing this data set\n",
    ">* Which top 5 directors produce the highest average revenue?\n",
    "* Which top 5 directors produce the highest average revenue?\n",
    "* Has actor or director an obvious higher influence on the revenue_adj?"
   ]
  },
  {
   "cell_type": "markdown",
   "metadata": {},
   "source": [
    "<a id='wrangling'></a>\n",
    "## Data Wrangling\n",
    "### Load data "
   ]
  },
  {
   "cell_type": "code",
   "execution_count": 66,
   "metadata": {},
   "outputs": [],
   "source": [
    "# import python packages for the upcoming analysis\n",
    "import pandas as pd\n",
    "import numpy as np\n",
    "import matplotlib.pyplot as plt\n",
    "%matplotlib inline\n",
    "\n",
    "\"\"\"Changing scientific numbers to numeric numbers\"\"\"\n",
    "#https://stackoverflow.com/questions/38689125/how-to-get-rid-of-pandas-converting-large-numbers-in-excel-sheet-to-exponential\n",
    "pd.options.display.float_format = '{:.2f}'.format"
   ]
  },
  {
   "cell_type": "markdown",
   "metadata": {},
   "source": [
    "### Assessing  data \n",
    "Let's get a more detailed view on the data we wanna investigate. Especially the content of the columns cast, revenue_adj, directors, and genre are from interest regarding our research questions."
   ]
  },
  {
   "cell_type": "code",
   "execution_count": 67,
   "metadata": {},
   "outputs": [],
   "source": [
    "# Load your data and get an impression of the first rows\n",
    "df = pd.read_csv('tmdb-movies.csv')\n",
    "#df.head()"
   ]
  },
  {
   "cell_type": "code",
   "execution_count": 68,
   "metadata": {},
   "outputs": [
    {
     "name": "stdout",
     "output_type": "stream",
     "text": [
      "<class 'pandas.core.frame.DataFrame'>\n",
      "RangeIndex: 10866 entries, 0 to 10865\n",
      "Data columns (total 21 columns):\n",
      "id                      10866 non-null int64\n",
      "imdb_id                 10856 non-null object\n",
      "popularity              10866 non-null float64\n",
      "budget                  10866 non-null int64\n",
      "revenue                 10866 non-null int64\n",
      "original_title          10866 non-null object\n",
      "cast                    10790 non-null object\n",
      "homepage                2936 non-null object\n",
      "director                10822 non-null object\n",
      "tagline                 8042 non-null object\n",
      "keywords                9373 non-null object\n",
      "overview                10862 non-null object\n",
      "runtime                 10866 non-null int64\n",
      "genres                  10843 non-null object\n",
      "production_companies    9836 non-null object\n",
      "release_date            10866 non-null object\n",
      "vote_count              10866 non-null int64\n",
      "vote_average            10866 non-null float64\n",
      "release_year            10866 non-null int64\n",
      "budget_adj              10866 non-null float64\n",
      "revenue_adj             10866 non-null float64\n",
      "dtypes: float64(4), int64(6), object(11)\n",
      "memory usage: 1.7+ MB\n",
      "-------------\n",
      "Dataframe is represented in 10866 rows and 21 columns\n"
     ]
    }
   ],
   "source": [
    "df.info(),\n",
    "print('-------------')\n",
    "print('Dataframe is represented in {} rows and {} columns'.format(df.shape[0],df.shape[1]))"
   ]
  },
  {
   "cell_type": "code",
   "execution_count": 69,
   "metadata": {},
   "outputs": [
    {
     "data": {
      "text/html": [
       "<div>\n",
       "<style scoped>\n",
       "    .dataframe tbody tr th:only-of-type {\n",
       "        vertical-align: middle;\n",
       "    }\n",
       "\n",
       "    .dataframe tbody tr th {\n",
       "        vertical-align: top;\n",
       "    }\n",
       "\n",
       "    .dataframe thead th {\n",
       "        text-align: right;\n",
       "    }\n",
       "</style>\n",
       "<table border=\"1\" class=\"dataframe\">\n",
       "  <thead>\n",
       "    <tr style=\"text-align: right;\">\n",
       "      <th></th>\n",
       "      <th>id</th>\n",
       "      <th>popularity</th>\n",
       "      <th>budget</th>\n",
       "      <th>revenue</th>\n",
       "      <th>runtime</th>\n",
       "      <th>vote_count</th>\n",
       "      <th>vote_average</th>\n",
       "      <th>release_year</th>\n",
       "      <th>budget_adj</th>\n",
       "      <th>revenue_adj</th>\n",
       "    </tr>\n",
       "  </thead>\n",
       "  <tbody>\n",
       "    <tr>\n",
       "      <th>count</th>\n",
       "      <td>10866.00</td>\n",
       "      <td>10866.00</td>\n",
       "      <td>10866.00</td>\n",
       "      <td>10866.00</td>\n",
       "      <td>10866.00</td>\n",
       "      <td>10866.00</td>\n",
       "      <td>10866.00</td>\n",
       "      <td>10866.00</td>\n",
       "      <td>10866.00</td>\n",
       "      <td>10866.00</td>\n",
       "    </tr>\n",
       "    <tr>\n",
       "      <th>mean</th>\n",
       "      <td>66064.18</td>\n",
       "      <td>0.65</td>\n",
       "      <td>14625701.09</td>\n",
       "      <td>39823319.79</td>\n",
       "      <td>102.07</td>\n",
       "      <td>217.39</td>\n",
       "      <td>5.97</td>\n",
       "      <td>2001.32</td>\n",
       "      <td>17551039.82</td>\n",
       "      <td>51364363.25</td>\n",
       "    </tr>\n",
       "    <tr>\n",
       "      <th>std</th>\n",
       "      <td>92130.14</td>\n",
       "      <td>1.00</td>\n",
       "      <td>30913213.83</td>\n",
       "      <td>117003486.58</td>\n",
       "      <td>31.38</td>\n",
       "      <td>575.62</td>\n",
       "      <td>0.94</td>\n",
       "      <td>12.81</td>\n",
       "      <td>34306155.72</td>\n",
       "      <td>144632485.04</td>\n",
       "    </tr>\n",
       "    <tr>\n",
       "      <th>min</th>\n",
       "      <td>5.00</td>\n",
       "      <td>0.00</td>\n",
       "      <td>0.00</td>\n",
       "      <td>0.00</td>\n",
       "      <td>0.00</td>\n",
       "      <td>10.00</td>\n",
       "      <td>1.50</td>\n",
       "      <td>1960.00</td>\n",
       "      <td>0.00</td>\n",
       "      <td>0.00</td>\n",
       "    </tr>\n",
       "    <tr>\n",
       "      <th>25%</th>\n",
       "      <td>10596.25</td>\n",
       "      <td>0.21</td>\n",
       "      <td>0.00</td>\n",
       "      <td>0.00</td>\n",
       "      <td>90.00</td>\n",
       "      <td>17.00</td>\n",
       "      <td>5.40</td>\n",
       "      <td>1995.00</td>\n",
       "      <td>0.00</td>\n",
       "      <td>0.00</td>\n",
       "    </tr>\n",
       "    <tr>\n",
       "      <th>50%</th>\n",
       "      <td>20669.00</td>\n",
       "      <td>0.38</td>\n",
       "      <td>0.00</td>\n",
       "      <td>0.00</td>\n",
       "      <td>99.00</td>\n",
       "      <td>38.00</td>\n",
       "      <td>6.00</td>\n",
       "      <td>2006.00</td>\n",
       "      <td>0.00</td>\n",
       "      <td>0.00</td>\n",
       "    </tr>\n",
       "    <tr>\n",
       "      <th>75%</th>\n",
       "      <td>75610.00</td>\n",
       "      <td>0.71</td>\n",
       "      <td>15000000.00</td>\n",
       "      <td>24000000.00</td>\n",
       "      <td>111.00</td>\n",
       "      <td>145.75</td>\n",
       "      <td>6.60</td>\n",
       "      <td>2011.00</td>\n",
       "      <td>20853251.08</td>\n",
       "      <td>33697095.72</td>\n",
       "    </tr>\n",
       "    <tr>\n",
       "      <th>max</th>\n",
       "      <td>417859.00</td>\n",
       "      <td>32.99</td>\n",
       "      <td>425000000.00</td>\n",
       "      <td>2781505847.00</td>\n",
       "      <td>900.00</td>\n",
       "      <td>9767.00</td>\n",
       "      <td>9.20</td>\n",
       "      <td>2015.00</td>\n",
       "      <td>425000000.00</td>\n",
       "      <td>2827123750.41</td>\n",
       "    </tr>\n",
       "  </tbody>\n",
       "</table>\n",
       "</div>"
      ],
      "text/plain": [
       "             id  popularity       budget       revenue  runtime  vote_count  \\\n",
       "count  10866.00    10866.00     10866.00      10866.00 10866.00    10866.00   \n",
       "mean   66064.18        0.65  14625701.09   39823319.79   102.07      217.39   \n",
       "std    92130.14        1.00  30913213.83  117003486.58    31.38      575.62   \n",
       "min        5.00        0.00         0.00          0.00     0.00       10.00   \n",
       "25%    10596.25        0.21         0.00          0.00    90.00       17.00   \n",
       "50%    20669.00        0.38         0.00          0.00    99.00       38.00   \n",
       "75%    75610.00        0.71  15000000.00   24000000.00   111.00      145.75   \n",
       "max   417859.00       32.99 425000000.00 2781505847.00   900.00     9767.00   \n",
       "\n",
       "       vote_average  release_year   budget_adj   revenue_adj  \n",
       "count      10866.00      10866.00     10866.00      10866.00  \n",
       "mean           5.97       2001.32  17551039.82   51364363.25  \n",
       "std            0.94         12.81  34306155.72  144632485.04  \n",
       "min            1.50       1960.00         0.00          0.00  \n",
       "25%            5.40       1995.00         0.00          0.00  \n",
       "50%            6.00       2006.00         0.00          0.00  \n",
       "75%            6.60       2011.00  20853251.08   33697095.72  \n",
       "max            9.20       2015.00 425000000.00 2827123750.41  "
      ]
     },
     "execution_count": 69,
     "metadata": {},
     "output_type": "execute_result"
    }
   ],
   "source": [
    "df.describe()"
   ]
  },
  {
   "cell_type": "code",
   "execution_count": 70,
   "metadata": {},
   "outputs": [
    {
     "data": {
      "image/png": "[encoded data removed]",
      "text/plain": [
       "<matplotlib.figure.Figure at 0x7f6b90400ac8>"
      ]
     },
     "metadata": {
      "needs_background": "light"
     },
     "output_type": "display_data"
    }
   ],
   "source": [
    "# The pandas plot function automatically ignores the object comlumns.\n",
    "# Thats nice to get a first overview about the pure numbers\n",
    "df.hist(figsize=(13,13));"
   ]
  },
  {
   "cell_type": "code",
   "execution_count": 71,
   "metadata": {},
   "outputs": [
    {
     "data": {
      "text/html": [
       "<style  type=\"text/css\" >\n",
       "    #T_d951aa10_7158_11ea_b9b0_0242ac120002row0_col0 {\n",
       "            background-color:  #b40426;\n",
       "        }    #T_d951aa10_7158_11ea_b9b0_0242ac120002row0_col1 {\n",
       "            background-color:  #e2dad5;\n",
       "        }    #T_d951aa10_7158_11ea_b9b0_0242ac120002row0_col2 {\n",
       "            background-color:  #f6bfa6;\n",
       "        }    #T_d951aa10_7158_11ea_b9b0_0242ac120002row0_col3 {\n",
       "            background-color:  #86a9fc;\n",
       "        }    #T_d951aa10_7158_11ea_b9b0_0242ac120002row0_col4 {\n",
       "            background-color:  #ee8669;\n",
       "        }    #T_d951aa10_7158_11ea_b9b0_0242ac120002row0_col5 {\n",
       "            background-color:  #9fbfff;\n",
       "        }    #T_d951aa10_7158_11ea_b9b0_0242ac120002row0_col6 {\n",
       "            background-color:  #7699f6;\n",
       "        }    #T_d951aa10_7158_11ea_b9b0_0242ac120002row0_col7 {\n",
       "            background-color:  #e2dad5;\n",
       "        }    #T_d951aa10_7158_11ea_b9b0_0242ac120002row0_col8 {\n",
       "            background-color:  #f5c0a7;\n",
       "        }    #T_d951aa10_7158_11ea_b9b0_0242ac120002row1_col0 {\n",
       "            background-color:  #e1dad6;\n",
       "        }    #T_d951aa10_7158_11ea_b9b0_0242ac120002row1_col1 {\n",
       "            background-color:  #b40426;\n",
       "        }    #T_d951aa10_7158_11ea_b9b0_0242ac120002row1_col2 {\n",
       "            background-color:  #f6a586;\n",
       "        }    #T_d951aa10_7158_11ea_b9b0_0242ac120002row1_col3 {\n",
       "            background-color:  #96b7ff;\n",
       "        }    #T_d951aa10_7158_11ea_b9b0_0242ac120002row1_col4 {\n",
       "            background-color:  #f0cdbb;\n",
       "        }    #T_d951aa10_7158_11ea_b9b0_0242ac120002row1_col5 {\n",
       "            background-color:  #7396f5;\n",
       "        }    #T_d951aa10_7158_11ea_b9b0_0242ac120002row1_col6 {\n",
       "            background-color:  #7ea1fa;\n",
       "        }    #T_d951aa10_7158_11ea_b9b0_0242ac120002row1_col7 {\n",
       "            background-color:  #c0282f;\n",
       "        }    #T_d951aa10_7158_11ea_b9b0_0242ac120002row1_col8 {\n",
       "            background-color:  #f6bea4;\n",
       "        }    #T_d951aa10_7158_11ea_b9b0_0242ac120002row2_col0 {\n",
       "            background-color:  #f5c2aa;\n",
       "        }    #T_d951aa10_7158_11ea_b9b0_0242ac120002row2_col1 {\n",
       "            background-color:  #f7a889;\n",
       "        }    #T_d951aa10_7158_11ea_b9b0_0242ac120002row2_col2 {\n",
       "            background-color:  #b40426;\n",
       "        }    #T_d951aa10_7158_11ea_b9b0_0242ac120002row2_col3 {\n",
       "            background-color:  #8db0fe;\n",
       "        }    #T_d951aa10_7158_11ea_b9b0_0242ac120002row2_col4 {\n",
       "            background-color:  #f39475;\n",
       "        }    #T_d951aa10_7158_11ea_b9b0_0242ac120002row2_col5 {\n",
       "            background-color:  #90b2fe;\n",
       "        }    #T_d951aa10_7158_11ea_b9b0_0242ac120002row2_col6 {\n",
       "            background-color:  #6b8df0;\n",
       "        }    #T_d951aa10_7158_11ea_b9b0_0242ac120002row2_col7 {\n",
       "            background-color:  #f7ac8e;\n",
       "        }    #T_d951aa10_7158_11ea_b9b0_0242ac120002row2_col8 {\n",
       "            background-color:  #cf453c;\n",
       "        }    #T_d951aa10_7158_11ea_b9b0_0242ac120002row3_col0 {\n",
       "            background-color:  #4b64d5;\n",
       "        }    #T_d951aa10_7158_11ea_b9b0_0242ac120002row3_col1 {\n",
       "            background-color:  #5f7fe8;\n",
       "        }    #T_d951aa10_7158_11ea_b9b0_0242ac120002row3_col2 {\n",
       "            background-color:  #5e7de7;\n",
       "        }    #T_d951aa10_7158_11ea_b9b0_0242ac120002row3_col3 {\n",
       "            background-color:  #b40426;\n",
       "        }    #T_d951aa10_7158_11ea_b9b0_0242ac120002row3_col4 {\n",
       "            background-color:  #4e68d8;\n",
       "        }    #T_d951aa10_7158_11ea_b9b0_0242ac120002row3_col5 {\n",
       "            background-color:  #8badfd;\n",
       "        }    #T_d951aa10_7158_11ea_b9b0_0242ac120002row3_col6 {\n",
       "            background-color:  #3b4cc0;\n",
       "        }    #T_d951aa10_7158_11ea_b9b0_0242ac120002row3_col7 {\n",
       "            background-color:  #7ea1fa;\n",
       "        }    #T_d951aa10_7158_11ea_b9b0_0242ac120002row3_col8 {\n",
       "            background-color:  #85a8fc;\n",
       "        }    #T_d951aa10_7158_11ea_b9b0_0242ac120002row4_col0 {\n",
       "            background-color:  #ee8468;\n",
       "        }    #T_d951aa10_7158_11ea_b9b0_0242ac120002row4_col1 {\n",
       "            background-color:  #f2cbb7;\n",
       "        }    #T_d951aa10_7158_11ea_b9b0_0242ac120002row4_col2 {\n",
       "            background-color:  #f18f71;\n",
       "        }    #T_d951aa10_7158_11ea_b9b0_0242ac120002row4_col3 {\n",
       "            background-color:  #8db0fe;\n",
       "        }    #T_d951aa10_7158_11ea_b9b0_0242ac120002row4_col4 {\n",
       "            background-color:  #b40426;\n",
       "        }    #T_d951aa10_7158_11ea_b9b0_0242ac120002row4_col5 {\n",
       "            background-color:  #aac7fd;\n",
       "        }    #T_d951aa10_7158_11ea_b9b0_0242ac120002row4_col6 {\n",
       "            background-color:  #7b9ff9;\n",
       "        }    #T_d951aa10_7158_11ea_b9b0_0242ac120002row4_col7 {\n",
       "            background-color:  #efcfbf;\n",
       "        }    #T_d951aa10_7158_11ea_b9b0_0242ac120002row4_col8 {\n",
       "            background-color:  #f6a385;\n",
       "        }    #T_d951aa10_7158_11ea_b9b0_0242ac120002row5_col0 {\n",
       "            background-color:  #6687ed;\n",
       "        }    #T_d951aa10_7158_11ea_b9b0_0242ac120002row5_col1 {\n",
       "            background-color:  #3b4cc0;\n",
       "        }    #T_d951aa10_7158_11ea_b9b0_0242ac120002row5_col2 {\n",
       "            background-color:  #6180e9;\n",
       "        }    #T_d951aa10_7158_11ea_b9b0_0242ac120002row5_col3 {\n",
       "            background-color:  #8badfd;\n",
       "        }    #T_d951aa10_7158_11ea_b9b0_0242ac120002row5_col4 {\n",
       "            background-color:  #6f92f3;\n",
       "        }    #T_d951aa10_7158_11ea_b9b0_0242ac120002row5_col5 {\n",
       "            background-color:  #b40426;\n",
       "        }    #T_d951aa10_7158_11ea_b9b0_0242ac120002row5_col6 {\n",
       "            background-color:  #3b4cc0;\n",
       "        }    #T_d951aa10_7158_11ea_b9b0_0242ac120002row5_col7 {\n",
       "            background-color:  #516ddb;\n",
       "        }    #T_d951aa10_7158_11ea_b9b0_0242ac120002row5_col8 {\n",
       "            background-color:  #8badfd;\n",
       "        }    #T_d951aa10_7158_11ea_b9b0_0242ac120002row6_col0 {\n",
       "            background-color:  #3b4cc0;\n",
       "        }    #T_d951aa10_7158_11ea_b9b0_0242ac120002row6_col1 {\n",
       "            background-color:  #455cce;\n",
       "        }    #T_d951aa10_7158_11ea_b9b0_0242ac120002row6_col2 {\n",
       "            background-color:  #3b4cc0;\n",
       "        }    #T_d951aa10_7158_11ea_b9b0_0242ac120002row6_col3 {\n",
       "            background-color:  #3b4cc0;\n",
       "        }    #T_d951aa10_7158_11ea_b9b0_0242ac120002row6_col4 {\n",
       "            background-color:  #3b4cc0;\n",
       "        }    #T_d951aa10_7158_11ea_b9b0_0242ac120002row6_col5 {\n",
       "            background-color:  #3b4cc0;\n",
       "        }    #T_d951aa10_7158_11ea_b9b0_0242ac120002row6_col6 {\n",
       "            background-color:  #b40426;\n",
       "        }    #T_d951aa10_7158_11ea_b9b0_0242ac120002row6_col7 {\n",
       "            background-color:  #3b4cc0;\n",
       "        }    #T_d951aa10_7158_11ea_b9b0_0242ac120002row6_col8 {\n",
       "            background-color:  #3b4cc0;\n",
       "        }    #T_d951aa10_7158_11ea_b9b0_0242ac120002row7_col0 {\n",
       "            background-color:  #d8dce2;\n",
       "        }    #T_d951aa10_7158_11ea_b9b0_0242ac120002row7_col1 {\n",
       "            background-color:  #c0282f;\n",
       "        }    #T_d951aa10_7158_11ea_b9b0_0242ac120002row7_col2 {\n",
       "            background-color:  #f7b093;\n",
       "        }    #T_d951aa10_7158_11ea_b9b0_0242ac120002row7_col3 {\n",
       "            background-color:  #9fbfff;\n",
       "        }    #T_d951aa10_7158_11ea_b9b0_0242ac120002row7_col4 {\n",
       "            background-color:  #e6d7cf;\n",
       "        }    #T_d951aa10_7158_11ea_b9b0_0242ac120002row7_col5 {\n",
       "            background-color:  #779af7;\n",
       "        }    #T_d951aa10_7158_11ea_b9b0_0242ac120002row7_col6 {\n",
       "            background-color:  #5f7fe8;\n",
       "        }    #T_d951aa10_7158_11ea_b9b0_0242ac120002row7_col7 {\n",
       "            background-color:  #b40426;\n",
       "        }    #T_d951aa10_7158_11ea_b9b0_0242ac120002row7_col8 {\n",
       "            background-color:  #f7b79b;\n",
       "        }    #T_d951aa10_7158_11ea_b9b0_0242ac120002row8_col0 {\n",
       "            background-color:  #eed0c0;\n",
       "        }    #T_d951aa10_7158_11ea_b9b0_0242ac120002row8_col1 {\n",
       "            background-color:  #f0cdbb;\n",
       "        }    #T_d951aa10_7158_11ea_b9b0_0242ac120002row8_col2 {\n",
       "            background-color:  #d24b40;\n",
       "        }    #T_d951aa10_7158_11ea_b9b0_0242ac120002row8_col3 {\n",
       "            background-color:  #92b4fe;\n",
       "        }    #T_d951aa10_7158_11ea_b9b0_0242ac120002row8_col4 {\n",
       "            background-color:  #f7b79b;\n",
       "        }    #T_d951aa10_7158_11ea_b9b0_0242ac120002row8_col5 {\n",
       "            background-color:  #97b8ff;\n",
       "        }    #T_d951aa10_7158_11ea_b9b0_0242ac120002row8_col6 {\n",
       "            background-color:  #485fd1;\n",
       "        }    #T_d951aa10_7158_11ea_b9b0_0242ac120002row8_col7 {\n",
       "            background-color:  #f5c0a7;\n",
       "        }    #T_d951aa10_7158_11ea_b9b0_0242ac120002row8_col8 {\n",
       "            background-color:  #b40426;\n",
       "        }</style>  \n",
       "<table id=\"T_d951aa10_7158_11ea_b9b0_0242ac120002\" > \n",
       "<thead>    <tr> \n",
       "        <th class=\"blank level0\" ></th> \n",
       "        <th class=\"col_heading level0 col0\" >popularity</th> \n",
       "        <th class=\"col_heading level0 col1\" >budget</th> \n",
       "        <th class=\"col_heading level0 col2\" >revenue</th> \n",
       "        <th class=\"col_heading level0 col3\" >runtime</th> \n",
       "        <th class=\"col_heading level0 col4\" >vote_count</th> \n",
       "        <th class=\"col_heading level0 col5\" >vote_average</th> \n",
       "        <th class=\"col_heading level0 col6\" >release_year</th> \n",
       "        <th class=\"col_heading level0 col7\" >budget_adj</th> \n",
       "        <th class=\"col_heading level0 col8\" >revenue_adj</th> \n",
       "    </tr></thead> \n",
       "<tbody>    <tr> \n",
       "        <th id=\"T_d951aa10_7158_11ea_b9b0_0242ac120002level0_row0\" class=\"row_heading level0 row0\" >popularity</th> \n",
       "        <td id=\"T_d951aa10_7158_11ea_b9b0_0242ac120002row0_col0\" class=\"data row0 col0\" >1</td> \n",
       "        <td id=\"T_d951aa10_7158_11ea_b9b0_0242ac120002row0_col1\" class=\"data row0 col1\" >0.56</td> \n",
       "        <td id=\"T_d951aa10_7158_11ea_b9b0_0242ac120002row0_col2\" class=\"data row0 col2\" >0.66</td> \n",
       "        <td id=\"T_d951aa10_7158_11ea_b9b0_0242ac120002row0_col3\" class=\"data row0 col3\" >0.14</td> \n",
       "        <td id=\"T_d951aa10_7158_11ea_b9b0_0242ac120002row0_col4\" class=\"data row0 col4\" >0.82</td> \n",
       "        <td id=\"T_d951aa10_7158_11ea_b9b0_0242ac120002row0_col5\" class=\"data row0 col5\" >0.22</td> \n",
       "        <td id=\"T_d951aa10_7158_11ea_b9b0_0242ac120002row0_col6\" class=\"data row0 col6\" >0.091</td> \n",
       "        <td id=\"T_d951aa10_7158_11ea_b9b0_0242ac120002row0_col7\" class=\"data row0 col7\" >0.53</td> \n",
       "        <td id=\"T_d951aa10_7158_11ea_b9b0_0242ac120002row0_col8\" class=\"data row0 col8\" >0.61</td> \n",
       "    </tr>    <tr> \n",
       "        <th id=\"T_d951aa10_7158_11ea_b9b0_0242ac120002level0_row1\" class=\"row_heading level0 row1\" >budget</th> \n",
       "        <td id=\"T_d951aa10_7158_11ea_b9b0_0242ac120002row1_col0\" class=\"data row1 col0\" >0.56</td> \n",
       "        <td id=\"T_d951aa10_7158_11ea_b9b0_0242ac120002row1_col1\" class=\"data row1 col1\" >1</td> \n",
       "        <td id=\"T_d951aa10_7158_11ea_b9b0_0242ac120002row1_col2\" class=\"data row1 col2\" >0.74</td> \n",
       "        <td id=\"T_d951aa10_7158_11ea_b9b0_0242ac120002row1_col3\" class=\"data row1 col3\" >0.19</td> \n",
       "        <td id=\"T_d951aa10_7158_11ea_b9b0_0242ac120002row1_col4\" class=\"data row1 col4\" >0.63</td> \n",
       "        <td id=\"T_d951aa10_7158_11ea_b9b0_0242ac120002row1_col5\" class=\"data row1 col5\" >0.081</td> \n",
       "        <td id=\"T_d951aa10_7158_11ea_b9b0_0242ac120002row1_col6\" class=\"data row1 col6\" >0.12</td> \n",
       "        <td id=\"T_d951aa10_7158_11ea_b9b0_0242ac120002row1_col7\" class=\"data row1 col7\" >0.97</td> \n",
       "        <td id=\"T_d951aa10_7158_11ea_b9b0_0242ac120002row1_col8\" class=\"data row1 col8\" >0.62</td> \n",
       "    </tr>    <tr> \n",
       "        <th id=\"T_d951aa10_7158_11ea_b9b0_0242ac120002level0_row2\" class=\"row_heading level0 row2\" >revenue</th> \n",
       "        <td id=\"T_d951aa10_7158_11ea_b9b0_0242ac120002row2_col0\" class=\"data row2 col0\" >0.66</td> \n",
       "        <td id=\"T_d951aa10_7158_11ea_b9b0_0242ac120002row2_col1\" class=\"data row2 col1\" >0.74</td> \n",
       "        <td id=\"T_d951aa10_7158_11ea_b9b0_0242ac120002row2_col2\" class=\"data row2 col2\" >1</td> \n",
       "        <td id=\"T_d951aa10_7158_11ea_b9b0_0242ac120002row2_col3\" class=\"data row2 col3\" >0.16</td> \n",
       "        <td id=\"T_d951aa10_7158_11ea_b9b0_0242ac120002row2_col4\" class=\"data row2 col4\" >0.79</td> \n",
       "        <td id=\"T_d951aa10_7158_11ea_b9b0_0242ac120002row2_col5\" class=\"data row2 col5\" >0.17</td> \n",
       "        <td id=\"T_d951aa10_7158_11ea_b9b0_0242ac120002row2_col6\" class=\"data row2 col6\" >0.056</td> \n",
       "        <td id=\"T_d951aa10_7158_11ea_b9b0_0242ac120002row2_col7\" class=\"data row2 col7\" >0.71</td> \n",
       "        <td id=\"T_d951aa10_7158_11ea_b9b0_0242ac120002row2_col8\" class=\"data row2 col8\" >0.92</td> \n",
       "    </tr>    <tr> \n",
       "        <th id=\"T_d951aa10_7158_11ea_b9b0_0242ac120002level0_row3\" class=\"row_heading level0 row3\" >runtime</th> \n",
       "        <td id=\"T_d951aa10_7158_11ea_b9b0_0242ac120002row3_col0\" class=\"data row3 col0\" >0.14</td> \n",
       "        <td id=\"T_d951aa10_7158_11ea_b9b0_0242ac120002row3_col1\" class=\"data row3 col1\" >0.19</td> \n",
       "        <td id=\"T_d951aa10_7158_11ea_b9b0_0242ac120002row3_col2\" class=\"data row3 col2\" >0.16</td> \n",
       "        <td id=\"T_d951aa10_7158_11ea_b9b0_0242ac120002row3_col3\" class=\"data row3 col3\" >1</td> \n",
       "        <td id=\"T_d951aa10_7158_11ea_b9b0_0242ac120002row3_col4\" class=\"data row3 col4\" >0.16</td> \n",
       "        <td id=\"T_d951aa10_7158_11ea_b9b0_0242ac120002row3_col5\" class=\"data row3 col5\" >0.16</td> \n",
       "        <td id=\"T_d951aa10_7158_11ea_b9b0_0242ac120002row3_col6\" class=\"data row3 col6\" >-0.12</td> \n",
       "        <td id=\"T_d951aa10_7158_11ea_b9b0_0242ac120002row3_col7\" class=\"data row3 col7\" >0.22</td> \n",
       "        <td id=\"T_d951aa10_7158_11ea_b9b0_0242ac120002row3_col8\" class=\"data row3 col8\" >0.18</td> \n",
       "    </tr>    <tr> \n",
       "        <th id=\"T_d951aa10_7158_11ea_b9b0_0242ac120002level0_row4\" class=\"row_heading level0 row4\" >vote_count</th> \n",
       "        <td id=\"T_d951aa10_7158_11ea_b9b0_0242ac120002row4_col0\" class=\"data row4 col0\" >0.82</td> \n",
       "        <td id=\"T_d951aa10_7158_11ea_b9b0_0242ac120002row4_col1\" class=\"data row4 col1\" >0.63</td> \n",
       "        <td id=\"T_d951aa10_7158_11ea_b9b0_0242ac120002row4_col2\" class=\"data row4 col2\" >0.79</td> \n",
       "        <td id=\"T_d951aa10_7158_11ea_b9b0_0242ac120002row4_col3\" class=\"data row4 col3\" >0.16</td> \n",
       "        <td id=\"T_d951aa10_7158_11ea_b9b0_0242ac120002row4_col4\" class=\"data row4 col4\" >1</td> \n",
       "        <td id=\"T_d951aa10_7158_11ea_b9b0_0242ac120002row4_col5\" class=\"data row4 col5\" >0.25</td> \n",
       "        <td id=\"T_d951aa10_7158_11ea_b9b0_0242ac120002row4_col6\" class=\"data row4 col6\" >0.11</td> \n",
       "        <td id=\"T_d951aa10_7158_11ea_b9b0_0242ac120002row4_col7\" class=\"data row4 col7\" >0.59</td> \n",
       "        <td id=\"T_d951aa10_7158_11ea_b9b0_0242ac120002row4_col8\" class=\"data row4 col8\" >0.71</td> \n",
       "    </tr>    <tr> \n",
       "        <th id=\"T_d951aa10_7158_11ea_b9b0_0242ac120002level0_row5\" class=\"row_heading level0 row5\" >vote_average</th> \n",
       "        <td id=\"T_d951aa10_7158_11ea_b9b0_0242ac120002row5_col0\" class=\"data row5 col0\" >0.22</td> \n",
       "        <td id=\"T_d951aa10_7158_11ea_b9b0_0242ac120002row5_col1\" class=\"data row5 col1\" >0.081</td> \n",
       "        <td id=\"T_d951aa10_7158_11ea_b9b0_0242ac120002row5_col2\" class=\"data row5 col2\" >0.17</td> \n",
       "        <td id=\"T_d951aa10_7158_11ea_b9b0_0242ac120002row5_col3\" class=\"data row5 col3\" >0.16</td> \n",
       "        <td id=\"T_d951aa10_7158_11ea_b9b0_0242ac120002row5_col4\" class=\"data row5 col4\" >0.25</td> \n",
       "        <td id=\"T_d951aa10_7158_11ea_b9b0_0242ac120002row5_col5\" class=\"data row5 col5\" >1</td> \n",
       "        <td id=\"T_d951aa10_7158_11ea_b9b0_0242ac120002row5_col6\" class=\"data row5 col6\" >-0.12</td> \n",
       "        <td id=\"T_d951aa10_7158_11ea_b9b0_0242ac120002row5_col7\" class=\"data row5 col7\" >0.093</td> \n",
       "        <td id=\"T_d951aa10_7158_11ea_b9b0_0242ac120002row5_col8\" class=\"data row5 col8\" >0.19</td> \n",
       "    </tr>    <tr> \n",
       "        <th id=\"T_d951aa10_7158_11ea_b9b0_0242ac120002level0_row6\" class=\"row_heading level0 row6\" >release_year</th> \n",
       "        <td id=\"T_d951aa10_7158_11ea_b9b0_0242ac120002row6_col0\" class=\"data row6 col0\" >0.091</td> \n",
       "        <td id=\"T_d951aa10_7158_11ea_b9b0_0242ac120002row6_col1\" class=\"data row6 col1\" >0.12</td> \n",
       "        <td id=\"T_d951aa10_7158_11ea_b9b0_0242ac120002row6_col2\" class=\"data row6 col2\" >0.056</td> \n",
       "        <td id=\"T_d951aa10_7158_11ea_b9b0_0242ac120002row6_col3\" class=\"data row6 col3\" >-0.12</td> \n",
       "        <td id=\"T_d951aa10_7158_11ea_b9b0_0242ac120002row6_col4\" class=\"data row6 col4\" >0.11</td> \n",
       "        <td id=\"T_d951aa10_7158_11ea_b9b0_0242ac120002row6_col5\" class=\"data row6 col5\" >-0.12</td> \n",
       "        <td id=\"T_d951aa10_7158_11ea_b9b0_0242ac120002row6_col6\" class=\"data row6 col6\" >1</td> \n",
       "        <td id=\"T_d951aa10_7158_11ea_b9b0_0242ac120002row6_col7\" class=\"data row6 col7\" >0.016</td> \n",
       "        <td id=\"T_d951aa10_7158_11ea_b9b0_0242ac120002row6_col8\" class=\"data row6 col8\" >-0.067</td> \n",
       "    </tr>    <tr> \n",
       "        <th id=\"T_d951aa10_7158_11ea_b9b0_0242ac120002level0_row7\" class=\"row_heading level0 row7\" >budget_adj</th> \n",
       "        <td id=\"T_d951aa10_7158_11ea_b9b0_0242ac120002row7_col0\" class=\"data row7 col0\" >0.53</td> \n",
       "        <td id=\"T_d951aa10_7158_11ea_b9b0_0242ac120002row7_col1\" class=\"data row7 col1\" >0.97</td> \n",
       "        <td id=\"T_d951aa10_7158_11ea_b9b0_0242ac120002row7_col2\" class=\"data row7 col2\" >0.71</td> \n",
       "        <td id=\"T_d951aa10_7158_11ea_b9b0_0242ac120002row7_col3\" class=\"data row7 col3\" >0.22</td> \n",
       "        <td id=\"T_d951aa10_7158_11ea_b9b0_0242ac120002row7_col4\" class=\"data row7 col4\" >0.59</td> \n",
       "        <td id=\"T_d951aa10_7158_11ea_b9b0_0242ac120002row7_col5\" class=\"data row7 col5\" >0.093</td> \n",
       "        <td id=\"T_d951aa10_7158_11ea_b9b0_0242ac120002row7_col6\" class=\"data row7 col6\" >0.016</td> \n",
       "        <td id=\"T_d951aa10_7158_11ea_b9b0_0242ac120002row7_col7\" class=\"data row7 col7\" >1</td> \n",
       "        <td id=\"T_d951aa10_7158_11ea_b9b0_0242ac120002row7_col8\" class=\"data row7 col8\" >0.65</td> \n",
       "    </tr>    <tr> \n",
       "        <th id=\"T_d951aa10_7158_11ea_b9b0_0242ac120002level0_row8\" class=\"row_heading level0 row8\" >revenue_adj</th> \n",
       "        <td id=\"T_d951aa10_7158_11ea_b9b0_0242ac120002row8_col0\" class=\"data row8 col0\" >0.61</td> \n",
       "        <td id=\"T_d951aa10_7158_11ea_b9b0_0242ac120002row8_col1\" class=\"data row8 col1\" >0.62</td> \n",
       "        <td id=\"T_d951aa10_7158_11ea_b9b0_0242ac120002row8_col2\" class=\"data row8 col2\" >0.92</td> \n",
       "        <td id=\"T_d951aa10_7158_11ea_b9b0_0242ac120002row8_col3\" class=\"data row8 col3\" >0.18</td> \n",
       "        <td id=\"T_d951aa10_7158_11ea_b9b0_0242ac120002row8_col4\" class=\"data row8 col4\" >0.71</td> \n",
       "        <td id=\"T_d951aa10_7158_11ea_b9b0_0242ac120002row8_col5\" class=\"data row8 col5\" >0.19</td> \n",
       "        <td id=\"T_d951aa10_7158_11ea_b9b0_0242ac120002row8_col6\" class=\"data row8 col6\" >-0.067</td> \n",
       "        <td id=\"T_d951aa10_7158_11ea_b9b0_0242ac120002row8_col7\" class=\"data row8 col7\" >0.65</td> \n",
       "        <td id=\"T_d951aa10_7158_11ea_b9b0_0242ac120002row8_col8\" class=\"data row8 col8\" >1</td> \n",
       "    </tr></tbody> \n",
       "</table> "
      ],
      "text/plain": [
       "<pandas.io.formats.style.Styler at 0x7f6b8d75b898>"
      ]
     },
     "execution_count": 71,
     "metadata": {},
     "output_type": "execute_result"
    }
   ],
   "source": [
    "#https://stackoverflow.com/questions/29432629/plot-correlation-matrix-using-pandas \n",
    "# use iloc to ignore the data frame id as it makes noe sense \n",
    "corr = df.iloc[1:,1:].corr()\n",
    "corr.style.background_gradient(cmap='coolwarm').set_precision(2)"
   ]
  },
  {
   "cell_type": "code",
   "execution_count": 72,
   "metadata": {},
   "outputs": [
    {
     "data": {
      "text/plain": [
       "(6016, 21)"
      ]
     },
     "execution_count": 72,
     "metadata": {},
     "output_type": "execute_result"
    }
   ],
   "source": [
    "# Confrim that the adjusted values are derived directly from the usual budget and revenue values.\n",
    "# So we expect the same shape at least \n",
    "#df[df.revenue == 0].shape\n",
    "df[df.revenue_adj == 0].shape"
   ]
  },
  {
   "cell_type": "code",
   "execution_count": 73,
   "metadata": {},
   "outputs": [
    {
     "data": {
      "text/plain": [
       "count           10822\n",
       "unique           5067\n",
       "top       Woody Allen\n",
       "freq               45\n",
       "Name: director, dtype: object"
      ]
     },
     "execution_count": 73,
     "metadata": {},
     "output_type": "execute_result"
    }
   ],
   "source": [
    "df.director.describe()"
   ]
  },
  {
   "cell_type": "markdown",
   "metadata": {},
   "source": [
    "### Rough first Summary\n",
    "\n",
    "It tells us that plain data frame has the follwing general attributes\n",
    "* Range index 10866 entires\n",
    "* Data columns 21 \n",
    "* Data types are: float64 * 4, int64 * 6, object * 11\n",
    "\n",
    "#### Main Aspects\n",
    "There are different issues with this data set.\n",
    "* Question related columns cast and revenue etc. contain multiple entries for one row. They are seperated by a \"|\".\n",
    "* For revenue and budget show seems to have lot's of 0 values.\n",
    "    * A quick check showed 6016 revenue_adj entries of value 0. This is more then 50% of the existing rows and can' be just dropped.\n",
    "    \n",
    "#### Minor Aspects\n",
    "* Counts of movie per year rised almost exponential. That means our data set shows an bios for the newer age.\n",
    "* The overall range for vote_average shows a gaussian normal distribution.\n",
    "* The revenue and budget column histograms tells that there are some outlayer above 1 billion. The majority is way below.\n",
    "\n",
    "#### Correlation Matrix\n",
    "###### revenue and revenue_adj - by design \n",
    "* Crystal clear one can observe a high correlation between revenue and revenue_adj- This is expected anmd by design. No surprice but alomst a validation that the correlation matrix shows valid results :-).\n",
    "###### Vote cound v.s. popularity 0.82\n",
    "* We can see a high correlation between vote cound and popolation of 0.82. This don't say which of both features are the root cause. Nevertheless it can be motivating toi take a closer look on it in future to identify the causality.\n",
    "###### Vote cound v.s. revenue 0.72\n",
    "* We can clearly see a high correlation between vote_count and revenue.  \n",
    "\n",
    "\n",
    "### Resulting Cleaning steps\n",
    "\n",
    "1. Sepreate the multiple entries in the columns\n",
    "2. Delete unneccessary columns\n",
    "3. Manage the NaN rows - make two sets\n",
    "* Replace rows in `revenue_adj` of value 0.0 with the median for this.\n",
    "4. Common Steps \n",
    "* Check for duplicates\n",
    "* Check types\n",
    "\n",
    "\n",
    "A short check of the kaggle forum offers that there are planty of different genres:\n",
    "\"Action\", \"Adventure\", \"Animation\", \"Biography\", \"Comedy\", \"Crime\", \"Documentary\", \"Drama\", \"Family\", \"Fantasy\", \"Film-Noir\", \"History\", \"Horror\", \"Music\", \"Musical\", \"Mystery\", \"Romance\", \"Sci-Fi\", \"Short\", \"Sport\", \"Thriller\", \"War\", \"Western\"\n",
    "These are 23 genres.\n"
   ]
  },
  {
   "cell_type": "markdown",
   "metadata": {},
   "source": [
    "#### Seperate the mutliple entries per column for `cast`,  `director`, and  `genres`.\n",
    "The question we wanna answer require the use of `cast`,`directors`, and  `revenue` column. These two columns keep rows with several values will be seperated in single columns containing only one of the values each."
   ]
  },
  {
   "cell_type": "code",
   "execution_count": 74,
   "metadata": {},
   "outputs": [],
   "source": [
    "# Seperate the mutliple entries in one row and define a column for each and evey entry\n",
    "df_cast     = (df['cast'].str.split('|', expand=True).rename(columns=lambda x: f\"cast_{x+1}\"))\n",
    "df_director = (df['director'].str.split('|', expand=True).rename(columns=lambda x: f\"director_{x+1}\"))\n",
    "df_genres   = (df['genres'].str.split('|', expand=True).rename(columns=lambda x: f\"genres_{x+1}\"))\n",
    "\n",
    "# Add seperated columns to the original dataframe\n",
    "df = df.join([df_cast, df_director, df_genres])"
   ]
  },
  {
   "cell_type": "code",
   "execution_count": 75,
   "metadata": {},
   "outputs": [],
   "source": [
    "# The questions point to the directors,cast,year of release, and revenue.\n",
    "# This is why we drop the following:\n",
    "## cast - director - genres - imdb_id - homepage - tagline - overview - budget -revenue - original_title - budget_adj - keywords - runtime - production_companies - vote_count - vote_average\n",
    "df.drop(['cast', 'director', 'genres','popularity','imdb_id','homepage','tagline','overview','budget','revenue','original_title','budget_adj','keywords','runtime','production_companies','vote_count','vote_average'],axis = 1, inplace = True)\n",
    "## We also drop the majority of the directors again because they don't add value.\n",
    "## The major director is mentioned as first in the original string.\n",
    "df.drop(df.loc[:,'director_2':'director_36'],axis=1,inplace = True)"
   ]
  },
  {
   "cell_type": "code",
   "execution_count": 76,
   "metadata": {},
   "outputs": [],
   "source": [
    "# rename the director_1 row to director again\n",
    "df.rename(columns={\"director_1\": \"director\"},inplace = True)"
   ]
  },
  {
   "cell_type": "markdown",
   "metadata": {},
   "source": [
    "\n",
    "#### Check director and cast for the rows where revenue equals zero\n",
    "Why we are doing this? Because there can be two scenarios\n",
    "1. the 6000 rows that have 0 revenue have weird data for other columns too like \"No/unknown director\", \"no/unknown cast\", etc. It would make no sense trying to deal with the 0s. The corresponding director/cast variable have no information. So it would be better to drop them. Then look on the remaining 4000 that have sensible values for both revenue and director or cast\n",
    "2. the 6000 rows that have 0s revenue have seemingly okay values for director and cast. Then we would not like to drop them."
   ]
  },
  {
   "cell_type": "code",
   "execution_count": 77,
   "metadata": {},
   "outputs": [
    {
     "data": {
      "text/plain": [
       "Woody Allen               24\n",
       "Uwe Boll                  13\n",
       "Gerald Thomas             12\n",
       "Martin Scorsese           12\n",
       "Paul Hoen                 10\n",
       "Stuart Gillard            10\n",
       "Norman Jewison             9\n",
       "Roger Corman               9\n",
       "Sean McNamara              9\n",
       "Robert Altman              9\n",
       "John Huston                9\n",
       "Roel ReinÃ©                9\n",
       "Mike Nichols               9\n",
       "Terence Fisher             8\n",
       "Michael Winterbottom       8\n",
       "Steve Miner                8\n",
       "Brian Trenchard-Smith      8\n",
       "Sidney Lumet               8\n",
       "Steve Rash                 8\n",
       "Mikael Salomon             8\n",
       "Michael Ritchie            8\n",
       "Robert Stevenson           8\n",
       "Robert Harmon              8\n",
       "Tobe Hooper                8\n",
       "Lawrence Kasdan            8\n",
       "Russell Mulcahy            8\n",
       "Robert Vince               8\n",
       "Jim Jarmusch               8\n",
       "Clint Eastwood             8\n",
       "Charles Grosvenor          8\n",
       "                          ..\n",
       "AndrÃ© Pellenz             1\n",
       "Billy O'Brien              1\n",
       "Marina Zenovich            1\n",
       "Kelly Dolen                1\n",
       "Eshom Nelms                1\n",
       "Tom Kalin                  1\n",
       "Amelle Chahbi              1\n",
       "Rodrigo GudiÃ±o            1\n",
       "Anton King                 1\n",
       "Khalil Sullins             1\n",
       "G.E. Furst                 1\n",
       "Chris Moukarbel            1\n",
       "Carol Reed                 1\n",
       "Sharon Maguire             1\n",
       "Denis Dercourt             1\n",
       "Don Handfield              1\n",
       "Ingmar Bergman             1\n",
       "Vincent Grashaw            1\n",
       "John Downer                1\n",
       "Tina Gordon Chism          1\n",
       "Tim Sullivan               1\n",
       "Tomasz Konecki             1\n",
       "Henrik Ruben Genz          1\n",
       "Michael Bafaro             1\n",
       "Courtney Hunt              1\n",
       "Tyler Measom               1\n",
       "Clio Barnard               1\n",
       "Carlos Brooks              1\n",
       "Arthur Allan Seidelman     1\n",
       "Michael A. Nickles         1\n",
       "Name: director, Length: 3802, dtype: int64"
      ]
     },
     "execution_count": 77,
     "metadata": {},
     "output_type": "execute_result"
    }
   ],
   "source": [
    "df[df.revenue_adj == 0].director.value_counts()"
   ]
  },
  {
   "cell_type": "markdown",
   "metadata": {},
   "source": [
    "Case two is true. This means you we can't easily just drop 60% of the dataset. We would drop important information on director/cast and other variables. For simplification we will do in as one variant.\n",
    "    \n",
    "We fill in the median revenue."
   ]
  },
  {
   "cell_type": "code",
   "execution_count": 78,
   "metadata": {},
   "outputs": [
    {
     "data": {
      "text/plain": [
       "(4850, 15)"
      ]
     },
     "execution_count": 78,
     "metadata": {},
     "output_type": "execute_result"
    }
   ],
   "source": [
    "# The first case \n",
    "## drop all revenue_adj equals zero\n",
    "df_dropped = df.drop( df[df['revenue_adj'] == 0.00].index)\n",
    "# Since we expect 6016 0.00 values, we expect a cut down to 4850...\n",
    "df_dropped.shape\n",
    "# the new shape is (4850, 8) we safe this as a separated dataset declared as dropped\n"
   ]
  },
  {
   "cell_type": "code",
   "execution_count": 79,
   "metadata": {},
   "outputs": [
    {
     "data": {
      "text/plain": [
       "count         4850.00\n",
       "mean     115077354.87\n",
       "std      198841916.05\n",
       "min              2.37\n",
       "25%       10462622.84\n",
       "50%       43927485.54\n",
       "75%      131564380.46\n",
       "max     2827123750.41\n",
       "Name: revenue_adj, dtype: float64"
      ]
     },
     "execution_count": 79,
     "metadata": {},
     "output_type": "execute_result"
    }
   ],
   "source": [
    "# Lets get a quick overview about the new characteristic of the revenue columns. \n",
    "df_dropped.revenue_adj.describe()"
   ]
  },
  {
   "cell_type": "code",
   "execution_count": 80,
   "metadata": {},
   "outputs": [],
   "source": [
    "## Instead of dropping them, we fill the zeros with the median\n",
    "# get the median for the revenue_adj but cut out the very less extraordinary outlayers\n",
    "value = df_dropped.revenue_adj.median()\n",
    "df_median = df.copy()\n",
    "df_median['revenue_adj'].replace(0.00, value,inplace=True)\n",
    "#Check whether the replace worked\n",
    "#df_median.revenue_adj.value_counts()"
   ]
  },
  {
   "cell_type": "markdown",
   "metadata": {},
   "source": [
    "#### Common steps"
   ]
  },
  {
   "cell_type": "code",
   "execution_count": 81,
   "metadata": {},
   "outputs": [
    {
     "data": {
      "text/html": [
       "<div>\n",
       "<style scoped>\n",
       "    .dataframe tbody tr th:only-of-type {\n",
       "        vertical-align: middle;\n",
       "    }\n",
       "\n",
       "    .dataframe tbody tr th {\n",
       "        vertical-align: top;\n",
       "    }\n",
       "\n",
       "    .dataframe thead th {\n",
       "        text-align: right;\n",
       "    }\n",
       "</style>\n",
       "<table border=\"1\" class=\"dataframe\">\n",
       "  <thead>\n",
       "    <tr style=\"text-align: right;\">\n",
       "      <th></th>\n",
       "      <th>id</th>\n",
       "      <th>release_date</th>\n",
       "      <th>release_year</th>\n",
       "      <th>revenue_adj</th>\n",
       "      <th>cast_1</th>\n",
       "      <th>cast_2</th>\n",
       "      <th>cast_3</th>\n",
       "      <th>cast_4</th>\n",
       "      <th>cast_5</th>\n",
       "      <th>director</th>\n",
       "      <th>genres_1</th>\n",
       "      <th>genres_2</th>\n",
       "      <th>genres_3</th>\n",
       "      <th>genres_4</th>\n",
       "      <th>genres_5</th>\n",
       "    </tr>\n",
       "  </thead>\n",
       "  <tbody>\n",
       "    <tr>\n",
       "      <th>0</th>\n",
       "      <td>135397</td>\n",
       "      <td>6/9/15</td>\n",
       "      <td>2015</td>\n",
       "      <td>1392445892.52</td>\n",
       "      <td>Chris Pratt</td>\n",
       "      <td>Bryce Dallas Howard</td>\n",
       "      <td>Irrfan Khan</td>\n",
       "      <td>Vincent D'Onofrio</td>\n",
       "      <td>Nick Robinson</td>\n",
       "      <td>Colin Trevorrow</td>\n",
       "      <td>Action</td>\n",
       "      <td>Adventure</td>\n",
       "      <td>Science Fiction</td>\n",
       "      <td>Thriller</td>\n",
       "      <td>None</td>\n",
       "    </tr>\n",
       "    <tr>\n",
       "      <th>1</th>\n",
       "      <td>76341</td>\n",
       "      <td>5/13/15</td>\n",
       "      <td>2015</td>\n",
       "      <td>348161292.49</td>\n",
       "      <td>Tom Hardy</td>\n",
       "      <td>Charlize Theron</td>\n",
       "      <td>Hugh Keays-Byrne</td>\n",
       "      <td>Nicholas Hoult</td>\n",
       "      <td>Josh Helman</td>\n",
       "      <td>George Miller</td>\n",
       "      <td>Action</td>\n",
       "      <td>Adventure</td>\n",
       "      <td>Science Fiction</td>\n",
       "      <td>Thriller</td>\n",
       "      <td>None</td>\n",
       "    </tr>\n",
       "    <tr>\n",
       "      <th>2</th>\n",
       "      <td>262500</td>\n",
       "      <td>3/18/15</td>\n",
       "      <td>2015</td>\n",
       "      <td>271619025.41</td>\n",
       "      <td>Shailene Woodley</td>\n",
       "      <td>Theo James</td>\n",
       "      <td>Kate Winslet</td>\n",
       "      <td>Ansel Elgort</td>\n",
       "      <td>Miles Teller</td>\n",
       "      <td>Robert Schwentke</td>\n",
       "      <td>Adventure</td>\n",
       "      <td>Science Fiction</td>\n",
       "      <td>Thriller</td>\n",
       "      <td>None</td>\n",
       "      <td>None</td>\n",
       "    </tr>\n",
       "    <tr>\n",
       "      <th>3</th>\n",
       "      <td>140607</td>\n",
       "      <td>12/15/15</td>\n",
       "      <td>2015</td>\n",
       "      <td>1902723129.80</td>\n",
       "      <td>Harrison Ford</td>\n",
       "      <td>Mark Hamill</td>\n",
       "      <td>Carrie Fisher</td>\n",
       "      <td>Adam Driver</td>\n",
       "      <td>Daisy Ridley</td>\n",
       "      <td>J.J. Abrams</td>\n",
       "      <td>Action</td>\n",
       "      <td>Adventure</td>\n",
       "      <td>Science Fiction</td>\n",
       "      <td>Fantasy</td>\n",
       "      <td>None</td>\n",
       "    </tr>\n",
       "    <tr>\n",
       "      <th>4</th>\n",
       "      <td>168259</td>\n",
       "      <td>4/1/15</td>\n",
       "      <td>2015</td>\n",
       "      <td>1385748801.47</td>\n",
       "      <td>Vin Diesel</td>\n",
       "      <td>Paul Walker</td>\n",
       "      <td>Jason Statham</td>\n",
       "      <td>Michelle Rodriguez</td>\n",
       "      <td>Dwayne Johnson</td>\n",
       "      <td>James Wan</td>\n",
       "      <td>Action</td>\n",
       "      <td>Crime</td>\n",
       "      <td>Thriller</td>\n",
       "      <td>None</td>\n",
       "      <td>None</td>\n",
       "    </tr>\n",
       "  </tbody>\n",
       "</table>\n",
       "</div>"
      ],
      "text/plain": [
       "       id release_date  release_year   revenue_adj            cast_1  \\\n",
       "0  135397       6/9/15          2015 1392445892.52       Chris Pratt   \n",
       "1   76341      5/13/15          2015  348161292.49         Tom Hardy   \n",
       "2  262500      3/18/15          2015  271619025.41  Shailene Woodley   \n",
       "3  140607     12/15/15          2015 1902723129.80     Harrison Ford   \n",
       "4  168259       4/1/15          2015 1385748801.47        Vin Diesel   \n",
       "\n",
       "                cast_2            cast_3              cast_4          cast_5  \\\n",
       "0  Bryce Dallas Howard       Irrfan Khan   Vincent D'Onofrio   Nick Robinson   \n",
       "1      Charlize Theron  Hugh Keays-Byrne      Nicholas Hoult     Josh Helman   \n",
       "2           Theo James      Kate Winslet        Ansel Elgort    Miles Teller   \n",
       "3          Mark Hamill     Carrie Fisher         Adam Driver    Daisy Ridley   \n",
       "4          Paul Walker     Jason Statham  Michelle Rodriguez  Dwayne Johnson   \n",
       "\n",
       "           director   genres_1         genres_2         genres_3  genres_4  \\\n",
       "0   Colin Trevorrow     Action        Adventure  Science Fiction  Thriller   \n",
       "1     George Miller     Action        Adventure  Science Fiction  Thriller   \n",
       "2  Robert Schwentke  Adventure  Science Fiction         Thriller      None   \n",
       "3       J.J. Abrams     Action        Adventure  Science Fiction   Fantasy   \n",
       "4         James Wan     Action            Crime         Thriller      None   \n",
       "\n",
       "  genres_5  \n",
       "0     None  \n",
       "1     None  \n",
       "2     None  \n",
       "3     None  \n",
       "4     None  "
      ]
     },
     "execution_count": 81,
     "metadata": {},
     "output_type": "execute_result"
    }
   ],
   "source": [
    "df_median.head()\n"
   ]
  },
  {
   "cell_type": "code",
   "execution_count": 82,
   "metadata": {},
   "outputs": [
    {
     "data": {
      "text/plain": [
       "1"
      ]
     },
     "execution_count": 82,
     "metadata": {},
     "output_type": "execute_result"
    }
   ],
   "source": [
    "#check for duplicated rows in the remaining data set\n",
    "df.duplicated().sum()\n",
    "# The whole data set shows one single duplicate. We ignore this, since its unsignificant."
   ]
  },
  {
   "cell_type": "code",
   "execution_count": 83,
   "metadata": {},
   "outputs": [
    {
     "data": {
      "text/plain": [
       "id                  0\n",
       "release_date        0\n",
       "release_year        0\n",
       "revenue_adj         0\n",
       "cast_1             76\n",
       "cast_2            220\n",
       "cast_3            310\n",
       "cast_4            419\n",
       "cast_5            732\n",
       "director           44\n",
       "genres_1           23\n",
       "genres_2         2351\n",
       "genres_3         5787\n",
       "genres_4         8885\n",
       "genres_5        10324\n",
       "dtype: int64"
      ]
     },
     "execution_count": 83,
     "metadata": {},
     "output_type": "execute_result"
    }
   ],
   "source": [
    "# Check fo nan\n",
    "df.isnull().sum()"
   ]
  },
  {
   "cell_type": "markdown",
   "metadata": {},
   "source": [
    "#### Accessing and Cleaning Summary\n",
    "Data looks prepared for the analysis\n",
    "* unecessary columns are dropped\n",
    "* no duplicates have been found\n",
    "* Columns which keep multiple values have been seperated and data types look ready for analysis. "
   ]
  },
  {
   "cell_type": "markdown",
   "metadata": {},
   "source": [
    "<a id='eda'></a>\n",
    "## Exploratory Data Analysis\n",
    "Since all question are related two a certain level of revenue, we will define this revenue classification first.\n",
    "\n",
    "### Research Question 1: Which top 5 directors produce the highest average revenuea_adj?\n",
    "* Filter the director cloumns for unique counts \n",
    "* Only consider the directors and actors which showing up mutliple times. This is for shaping some historical evidence."
   ]
  },
  {
   "cell_type": "code",
   "execution_count": 84,
   "metadata": {},
   "outputs": [
    {
     "data": {
      "text/plain": [
       "(91,)"
      ]
     },
     "execution_count": 84,
     "metadata": {},
     "output_type": "execute_result"
    }
   ],
   "source": [
    "# cout how often a single director occurs in the data set \n",
    "frequent_directors = df_median.director.value_counts()\n",
    "# filter out the directors which has produced less the 10 movies. This shall ensure that we gain historical evidence \n",
    "frequent_directors = frequent_directors[frequent_directors > 10]\n",
    "frequent_directors.shape"
   ]
  },
  {
   "cell_type": "code",
   "execution_count": 85,
   "metadata": {
    "scrolled": true
   },
   "outputs": [
    {
     "data": {
      "text/plain": [
       "{'James Cameron': 678091210.4565568,\n",
       " 'Peter Jackson': 546746368.27439928,\n",
       " 'Steven Spielberg': 527251784.74851048,\n",
       " 'Michael Bay': 496424723.47636873,\n",
       " 'Roland Emmerich': 378621451.32410949,\n",
       " 'Chris Columbus': 370138014.08054543,\n",
       " 'Robert Zemeckis': 337853130.61217576,\n",
       " 'Sam Raimi': 269392270.41514832,\n",
       " 'John Lasseter': 267725066.09717524,\n",
       " 'Tim Burton': 239596181.91585422,\n",
       " 'Richard Donner': 215123416.45599201,\n",
       " 'William Friedkin': 214177002.97434676,\n",
       " 'Ron Howard': 213763882.90733573,\n",
       " 'Shawn Levy': 212611644.14324334,\n",
       " 'Tony Scott': 197278394.59782138,\n",
       " 'Jay Roach': 196958710.71943572,\n",
       " 'Ivan Reitman': 186472701.14384034,\n",
       " 'Ridley Scott': 185369281.03681996,\n",
       " 'Mike Newell': 179011881.19395703,\n",
       " 'Francis Ford Coppola': 167081087.22812733,\n",
       " 'Sydney Pollack': 164600763.12587005,\n",
       " 'Quentin Tarantino': 160670999.28261834,\n",
       " 'Garry Marshall': 159827405.9454636,\n",
       " 'Dennis Dugan': 141196965.10434377,\n",
       " 'Mel Brooks': 131313058.81264986,\n",
       " 'Mike Nichols': 129186088.38824746,\n",
       " 'John G. Avildsen': 128843219.71337543,\n",
       " 'John Landis': 127124029.86739267,\n",
       " 'Phillip Noyce': 125192319.57157014,\n",
       " 'Steven Soderbergh': 122495960.47844954,\n",
       " 'Clint Eastwood': 117973796.67102188,\n",
       " 'John Badham': 116281059.01537552,\n",
       " 'Peter Weir': 115567497.45169288,\n",
       " 'Michael Mann': 115499243.75619783,\n",
       " 'Oliver Stone': 113744949.61361074,\n",
       " 'Barry Levinson': 111291284.93899511,\n",
       " 'Joel Schumacher': 110217375.19572185,\n",
       " 'Michael Apted': 104965624.93598139,\n",
       " 'Martin Scorsese': 98455726.933129862,\n",
       " 'Brian De Palma': 93461251.855877608,\n",
       " 'Renny Harlin': 93271911.133357376,\n",
       " 'Roger Donaldson': 91509044.107017919,\n",
       " 'Curtis Hanson': 84662712.143443763,\n",
       " 'Rob Reiner': 83729213.275651559,\n",
       " 'Danny Boyle': 79271699.993530974,\n",
       " 'Robert Rodriguez': 78427686.386130035,\n",
       " 'Stephen Herek': 77796648.597409755,\n",
       " 'Wes Craven': 71397382.09957628,\n",
       " 'Lasse HallstrÃ¶m': 70534794.809500769,\n",
       " 'Joe Dante': 70172495.603436649,\n",
       " 'Norman Jewison': 68726769.20871304,\n",
       " 'Robert Altman': 68266415.993179932,\n",
       " 'Blake Edwards': 68213095.641420752,\n",
       " 'Sidney Lumet': 67361297.435315073,\n",
       " 'Terry Gilliam': 66815141.058202654,\n",
       " 'Tobe Hooper': 65808312.129816055,\n",
       " 'Joel Coen': 64238133.261252902,\n",
       " 'Steve Miner': 64108634.047107831,\n",
       " 'Peter Hyams': 63597228.0855124,\n",
       " 'Roman Polanski': 62516447.854939863,\n",
       " 'Frank Oz': 61956367.846626945,\n",
       " 'Alan Parker': 60982026.613163091,\n",
       " 'Sam Peckinpah': 59789456.356165998,\n",
       " 'Michael Ritchie': 59575387.721613996,\n",
       " 'Neil Jordan': 57344774.430342086,\n",
       " 'Walter Hill': 57273768.464111239,\n",
       " 'John Huston': 55223564.117445052,\n",
       " 'Wes Anderson': 53156321.184485778,\n",
       " 'John Carpenter': 51781746.337783776,\n",
       " 'Woody Allen': 51053914.349505775,\n",
       " 'Gus Van Sant': 50010872.714156061,\n",
       " 'Tyler Perry': 47222280.890850052,\n",
       " 'George A. Romero': 46656797.225668766,\n",
       " 'Spike Lee': 44719340.772708833,\n",
       " 'Russell Mulcahy': 43993494.713279784,\n",
       " 'Gerald Thomas': 43927485.544214197,\n",
       " 'Stephen Frears': 42173214.17122791,\n",
       " 'Sean McNamara': 41650825.252316348,\n",
       " 'John Stockwell': 40110154.913352683,\n",
       " 'Stuart Gillard': 39934083.530898213,\n",
       " 'Roger Corman': 38086150.310211033,\n",
       " 'Jim Jarmusch': 37734802.588361494,\n",
       " 'Uwe Boll': 37611411.824445568,\n",
       " 'David Cronenberg': 36034665.476852596,\n",
       " 'Richard Linklater': 35863507.739669964,\n",
       " 'Stuart Gordon': 33500282.779762384,\n",
       " 'David Lynch': 33396812.494123649,\n",
       " 'Michael Winterbottom': 31102054.068914961,\n",
       " 'Werner Herzog': 30256799.627912819,\n",
       " 'David Gordon Green': 27567264.640361056,\n",
       " 'Kevin Smith': 24949157.566697646}"
      ]
     },
     "execution_count": 85,
     "metadata": {},
     "output_type": "execute_result"
    }
   ],
   "source": [
    "avg_per_directors = {} # Create a dictionary for the folling for loop\n",
    "for index, value in frequent_directors.items():\n",
    "    # create a list with the overall revenue_adj mean of each director \n",
    "    avg_per_directors.__setitem__(index, (df_median[df_median['director'] == index]['revenue_adj'].mean()))  \n",
    "    \n",
    "# Using the pandass sorted() to reorder the dictionary by value from highest to lowest and convert it into a doct again \n",
    "avg_per_directors = dict(sorted(avg_per_directors.items(), key = lambda x: x[1],reverse=True))\n",
    "avg_per_directors # print the dict"
   ]
  },
  {
   "cell_type": "code",
   "execution_count": 86,
   "metadata": {},
   "outputs": [
    {
     "data": {
      "text/html": [
       "<div>\n",
       "<style scoped>\n",
       "    .dataframe tbody tr th:only-of-type {\n",
       "        vertical-align: middle;\n",
       "    }\n",
       "\n",
       "    .dataframe tbody tr th {\n",
       "        vertical-align: top;\n",
       "    }\n",
       "\n",
       "    .dataframe thead th {\n",
       "        text-align: right;\n",
       "    }\n",
       "</style>\n",
       "<table border=\"1\" class=\"dataframe\">\n",
       "  <thead>\n",
       "    <tr style=\"text-align: right;\">\n",
       "      <th></th>\n",
       "      <th>revenue_adj</th>\n",
       "    </tr>\n",
       "  </thead>\n",
       "  <tbody>\n",
       "    <tr>\n",
       "      <th>James Cameron</th>\n",
       "      <td>678091210.46</td>\n",
       "    </tr>\n",
       "    <tr>\n",
       "      <th>Peter Jackson</th>\n",
       "      <td>546746368.27</td>\n",
       "    </tr>\n",
       "    <tr>\n",
       "      <th>Steven Spielberg</th>\n",
       "      <td>527251784.75</td>\n",
       "    </tr>\n",
       "    <tr>\n",
       "      <th>Michael Bay</th>\n",
       "      <td>496424723.48</td>\n",
       "    </tr>\n",
       "    <tr>\n",
       "      <th>Roland Emmerich</th>\n",
       "      <td>378621451.32</td>\n",
       "    </tr>\n",
       "  </tbody>\n",
       "</table>\n",
       "</div>"
      ],
      "text/plain": [
       "                  revenue_adj\n",
       "James Cameron    678091210.46\n",
       "Peter Jackson    546746368.27\n",
       "Steven Spielberg 527251784.75\n",
       "Michael Bay      496424723.48\n",
       "Roland Emmerich  378621451.32"
      ]
     },
     "execution_count": 86,
     "metadata": {},
     "output_type": "execute_result"
    }
   ],
   "source": [
    "df_avg_per_directors = pd.DataFrame.from_dict(avg_per_directors,orient='index',columns=['revenue_adj'])\n",
    "df_avg_per_directors.head()"
   ]
  },
  {
   "cell_type": "code",
   "execution_count": 87,
   "metadata": {},
   "outputs": [
    {
     "name": "stdout",
     "output_type": "stream",
     "text": [
      "<class 'pandas.core.frame.DataFrame'>\n",
      "Index: 91 entries, James Cameron to Kevin Smith\n",
      "Data columns (total 2 columns):\n",
      "revenue_adj      91 non-null float64\n",
      "revenue_class    91 non-null category\n",
      "dtypes: category(1), float64(1)\n",
      "memory usage: 1.7+ KB\n"
     ]
    }
   ],
   "source": [
    "# Defines a column with classified level for a category\n",
    "# Bin edges that will be used to \"cut\" the data into groups\n",
    "bin_edges = [2.37,10465848.09,43956661.16,100000000,2827123750.41]\n",
    "# Labels for the four revenue class groups\n",
    "bin_names = ['very low' ,'low' ,'medium' ,'high' ] \n",
    "# Creates revenue class column\n",
    "df_avg_per_directors['revenue_class'] = pd.cut(df_avg_per_directors['revenue_adj'], bin_edges, labels=bin_names)\n",
    "df_avg_per_directors.info()"
   ]
  },
  {
   "cell_type": "code",
   "execution_count": 88,
   "metadata": {},
   "outputs": [
    {
     "data": {
      "text/html": [
       "<div>\n",
       "<style scoped>\n",
       "    .dataframe tbody tr th:only-of-type {\n",
       "        vertical-align: middle;\n",
       "    }\n",
       "\n",
       "    .dataframe tbody tr th {\n",
       "        vertical-align: top;\n",
       "    }\n",
       "\n",
       "    .dataframe thead th {\n",
       "        text-align: right;\n",
       "    }\n",
       "</style>\n",
       "<table border=\"1\" class=\"dataframe\">\n",
       "  <thead>\n",
       "    <tr style=\"text-align: right;\">\n",
       "      <th></th>\n",
       "      <th>revenue_adj</th>\n",
       "      <th>revenue_class</th>\n",
       "    </tr>\n",
       "  </thead>\n",
       "  <tbody>\n",
       "    <tr>\n",
       "      <th>James Cameron</th>\n",
       "      <td>678091210.46</td>\n",
       "      <td>high</td>\n",
       "    </tr>\n",
       "    <tr>\n",
       "      <th>Peter Jackson</th>\n",
       "      <td>546746368.27</td>\n",
       "      <td>high</td>\n",
       "    </tr>\n",
       "    <tr>\n",
       "      <th>Steven Spielberg</th>\n",
       "      <td>527251784.75</td>\n",
       "      <td>high</td>\n",
       "    </tr>\n",
       "    <tr>\n",
       "      <th>Michael Bay</th>\n",
       "      <td>496424723.48</td>\n",
       "      <td>high</td>\n",
       "    </tr>\n",
       "    <tr>\n",
       "      <th>Roland Emmerich</th>\n",
       "      <td>378621451.32</td>\n",
       "      <td>high</td>\n",
       "    </tr>\n",
       "  </tbody>\n",
       "</table>\n",
       "</div>"
      ],
      "text/plain": [
       "                  revenue_adj revenue_class\n",
       "James Cameron    678091210.46          high\n",
       "Peter Jackson    546746368.27          high\n",
       "Steven Spielberg 527251784.75          high\n",
       "Michael Bay      496424723.48          high\n",
       "Roland Emmerich  378621451.32          high"
      ]
     },
     "execution_count": 88,
     "metadata": {},
     "output_type": "execute_result"
    }
   ],
   "source": [
    "# CReate a sub data frame contasining only column of revenue_adj class high\n",
    "df_directors_high_revenue = df_avg_per_directors.query('revenue_class == \"high\"')\n",
    "# Filter the directors dataset for the 5 top\n",
    "df_directors_high_revenue_top_five = df_directors_high_revenue.iloc[0:5]\n",
    "df_directors_high_revenue_top_five.head()"
   ]
  },
  {
   "cell_type": "code",
   "execution_count": 89,
   "metadata": {},
   "outputs": [
    {
     "data": {
      "text/plain": [
       "revenue_adj   220412627.52\n",
       "dtype: float64"
      ]
     },
     "execution_count": 89,
     "metadata": {},
     "output_type": "execute_result"
    }
   ],
   "source": [
    "# Mean all directors more then 10 movies\n",
    "df_directors_high_revenue.mean()"
   ]
  },
  {
   "cell_type": "code",
   "execution_count": 90,
   "metadata": {},
   "outputs": [
    {
     "data": {
      "text/plain": [
       "525427107.65598899"
      ]
     },
     "execution_count": 90,
     "metadata": {},
     "output_type": "execute_result"
    }
   ],
   "source": [
    "df_directors_high_revenue_top_five.revenue_adj.mean()"
   ]
  },
  {
   "cell_type": "code",
   "execution_count": 91,
   "metadata": {},
   "outputs": [
    {
     "data": {
      "image/png": "[encoded data removed]",
      "text/plain": [
       "<matplotlib.figure.Figure at 0x7f6b9263bf98>"
      ]
     },
     "metadata": {
      "needs_background": "light"
     },
     "output_type": "display_data"
    }
   ],
   "source": [
    "# Create a bar plot for the most reliable director over renvenue \n",
    "# define data to plot \n",
    "x = [1,3,5,7,9]\n",
    "heights = [678091210.46,546746368.27,527251784.75,496424723.48,378621451.32]\n",
    "\n",
    "labels = ['James Cameron','Peter Jackson','Steven Spielberg','Michael Bay','Roland Emmerich']\n",
    "\n",
    "#create a new figure and plot \n",
    "fig = plt.figure(1)\n",
    "ax = fig.add_subplot(111)\n",
    "plt.bar(x, heights, tick_label=labels) #plot\n",
    "plt.title('Directors with highest mean revenue overall')\n",
    "plt.xlabel('Directors Names', fontsize=12)\n",
    "plt.ylabel('Revenue Adjusted', fontsize=12)\n",
    "ax.set_xticklabels(labels, rotation = 45, ha=\"right\")\n",
    "fig.savefig('top5_directors_over_revenue_adj.png', dpi=300, format='png', bbox_inches='tight')"
   ]
  },
  {
   "cell_type": "markdown",
   "metadata": {},
   "source": [
    "### Conclusion Question 1 Which top 5 directors produce the highest average revenue?\n",
    "\n",
    "#### Top 5 Directors\n",
    "The top five performer amid the directors which have at least produced 10 movies and accomplished an average revenue_adj are from top to bottom: \n",
    "\n",
    "* James Cameron\n",
    "* Peter Jackson\n",
    "* Steven Spielberg\n",
    "* Michael Bay\n",
    "* Roland Emmerich\n",
    "\n",
    "Acroos the top five directors the mean revenue is 525427107 Dollar!\n",
    "\n",
    "This answer leaves an interesting guess. One could assume that choosing on of the directors above could guarantees an high revenue.\n",
    "#### Limitation:\n",
    "1. The generation of the List considers only directors which has produced more than 10 movies. This criteria is set to ensure a bit historical evidence and to sort out mayflier. In the same time there could be directors in the data frame who produced an higher average revenue but less then 10 movies. This is accepted, since a clear criteria for calculating a comparable mean value is worth it.\n",
    "2. The assumption that by choosing the top five directors one will have a guarantee for high revenue is missleading. Since the same directors could have produced 20 movies and 10 of those show low revenue. This low revenue in our case would be hided by the mean calculation.\n",
    "\n",
    "Finally. Historically the five actors listed above produced based the highest mean revenue in compare to every other actor which have more than 10 movies.\n"
   ]
  },
  {
   "cell_type": "markdown",
   "metadata": {},
   "source": [
    "### Research Question 2: Which top 5 actors produce the highest average revenuea_adj?\n"
   ]
  },
  {
   "cell_type": "code",
   "execution_count": 92,
   "metadata": {},
   "outputs": [],
   "source": [
    "df_median['revenue_class'] = pd.cut(df_median['revenue_adj'], bin_edges, labels=bin_names)"
   ]
  },
  {
   "cell_type": "code",
   "execution_count": 93,
   "metadata": {
    "scrolled": true
   },
   "outputs": [
    {
     "name": "stdout",
     "output_type": "stream",
     "text": [
      "<class 'pandas.core.frame.DataFrame'>\n",
      "RangeIndex: 10866 entries, 0 to 10865\n",
      "Data columns (total 6 columns):\n",
      "cast_1         10790 non-null object\n",
      "cast_2         10646 non-null object\n",
      "cast_3         10556 non-null object\n",
      "cast_4         10447 non-null object\n",
      "cast_5         10134 non-null object\n",
      "revenue_adj    10866 non-null float64\n",
      "dtypes: float64(1), object(5)\n",
      "memory usage: 509.4+ KB\n"
     ]
    }
   ],
   "source": [
    "# Selecting a subset of the df_median data frame\n",
    "# We select cast1 to 5, revenue\n",
    "df_all_actors_and_high_revenue = df_median.loc[:,['cast_1','cast_2','cast_3','cast_4','cast_5','revenue_adj']]\n",
    "# turns out we have not a 10866 rows × 6 columns df\n",
    "df_all_actors_and_high_revenue.info()"
   ]
  },
  {
   "cell_type": "code",
   "execution_count": 94,
   "metadata": {},
   "outputs": [],
   "source": [
    "# Staple all different cast caloumns for having one single actor column. Makes handling easier in the upcoming steps.\n",
    "df_frequent_actors_and_high_revenue = pd.DataFrame(df_all_actors_and_high_revenue.iloc[:,0:-1].stack().value_counts())\n",
    "df_frequent_actors_and_high_revenue = df_frequent_actors_and_high_revenue[df_frequent_actors_and_high_revenue > 10]\n",
    "df_frequent_actors_and_high_revenue.reset_index(inplace=True)\n",
    "df_frequent_actors_and_high_revenue.rename(columns={'index':'Actor',0:'MovieActCount'},inplace = True)"
   ]
  },
  {
   "cell_type": "code",
   "execution_count": 95,
   "metadata": {},
   "outputs": [
    {
     "data": {
      "text/html": [
       "<div>\n",
       "<style scoped>\n",
       "    .dataframe tbody tr th:only-of-type {\n",
       "        vertical-align: middle;\n",
       "    }\n",
       "\n",
       "    .dataframe tbody tr th {\n",
       "        vertical-align: top;\n",
       "    }\n",
       "\n",
       "    .dataframe thead th {\n",
       "        text-align: right;\n",
       "    }\n",
       "</style>\n",
       "<table border=\"1\" class=\"dataframe\">\n",
       "  <thead>\n",
       "    <tr style=\"text-align: right;\">\n",
       "      <th></th>\n",
       "      <th>Actor</th>\n",
       "      <th>MovieActCount</th>\n",
       "    </tr>\n",
       "  </thead>\n",
       "  <tbody>\n",
       "    <tr>\n",
       "      <th>0</th>\n",
       "      <td>Robert De Niro</td>\n",
       "      <td>72.00</td>\n",
       "    </tr>\n",
       "    <tr>\n",
       "      <th>1</th>\n",
       "      <td>Samuel L. Jackson</td>\n",
       "      <td>71.00</td>\n",
       "    </tr>\n",
       "    <tr>\n",
       "      <th>2</th>\n",
       "      <td>Bruce Willis</td>\n",
       "      <td>62.00</td>\n",
       "    </tr>\n",
       "    <tr>\n",
       "      <th>3</th>\n",
       "      <td>Nicolas Cage</td>\n",
       "      <td>61.00</td>\n",
       "    </tr>\n",
       "    <tr>\n",
       "      <th>4</th>\n",
       "      <td>Michael Caine</td>\n",
       "      <td>53.00</td>\n",
       "    </tr>\n",
       "  </tbody>\n",
       "</table>\n",
       "</div>"
      ],
      "text/plain": [
       "               Actor  MovieActCount\n",
       "0     Robert De Niro          72.00\n",
       "1  Samuel L. Jackson          71.00\n",
       "2       Bruce Willis          62.00\n",
       "3       Nicolas Cage          61.00\n",
       "4      Michael Caine          53.00"
      ]
     },
     "execution_count": 95,
     "metadata": {},
     "output_type": "execute_result"
    }
   ],
   "source": [
    "df_frequent_actors_and_high_revenue = df_frequent_actors_and_high_revenue.dropna()\n",
    "df_frequent_actors_and_high_revenue.head()"
   ]
  },
  {
   "cell_type": "code",
   "execution_count": 96,
   "metadata": {},
   "outputs": [
    {
     "data": {
      "text/html": [
       "<div>\n",
       "<style scoped>\n",
       "    .dataframe tbody tr th:only-of-type {\n",
       "        vertical-align: middle;\n",
       "    }\n",
       "\n",
       "    .dataframe tbody tr th {\n",
       "        vertical-align: top;\n",
       "    }\n",
       "\n",
       "    .dataframe thead th {\n",
       "        text-align: right;\n",
       "    }\n",
       "</style>\n",
       "<table border=\"1\" class=\"dataframe\">\n",
       "  <thead>\n",
       "    <tr style=\"text-align: right;\">\n",
       "      <th></th>\n",
       "      <th>Actor</th>\n",
       "      <th>MovieActCount</th>\n",
       "      <th>revenue_mean</th>\n",
       "    </tr>\n",
       "  </thead>\n",
       "  <tbody>\n",
       "    <tr>\n",
       "      <th>0</th>\n",
       "      <td>Robert De Niro</td>\n",
       "      <td>72.00</td>\n",
       "      <td>0</td>\n",
       "    </tr>\n",
       "    <tr>\n",
       "      <th>1</th>\n",
       "      <td>Samuel L. Jackson</td>\n",
       "      <td>71.00</td>\n",
       "      <td>0</td>\n",
       "    </tr>\n",
       "    <tr>\n",
       "      <th>2</th>\n",
       "      <td>Bruce Willis</td>\n",
       "      <td>62.00</td>\n",
       "      <td>0</td>\n",
       "    </tr>\n",
       "    <tr>\n",
       "      <th>3</th>\n",
       "      <td>Nicolas Cage</td>\n",
       "      <td>61.00</td>\n",
       "      <td>0</td>\n",
       "    </tr>\n",
       "    <tr>\n",
       "      <th>4</th>\n",
       "      <td>Michael Caine</td>\n",
       "      <td>53.00</td>\n",
       "      <td>0</td>\n",
       "    </tr>\n",
       "  </tbody>\n",
       "</table>\n",
       "</div>"
      ],
      "text/plain": [
       "               Actor  MovieActCount  revenue_mean\n",
       "0     Robert De Niro          72.00             0\n",
       "1  Samuel L. Jackson          71.00             0\n",
       "2       Bruce Willis          62.00             0\n",
       "3       Nicolas Cage          61.00             0\n",
       "4      Michael Caine          53.00             0"
      ]
     },
     "execution_count": 96,
     "metadata": {},
     "output_type": "execute_result"
    }
   ],
   "source": [
    "#Create new column for mean revenue and fill it initially with zero\n",
    "df_frequent_actors_and_high_revenue['revenue_mean'] = 0\n",
    "df_frequent_actors_and_high_revenue.head()"
   ]
  },
  {
   "cell_type": "code",
   "execution_count": 97,
   "metadata": {},
   "outputs": [],
   "source": [
    "# Calculate the mean revenue across all actor\n",
    "def mean_rev(actor):\n",
    "    '''Function that calculates the average revenue for the movie satrring the actor given as input'''\n",
    "    mean_rev = df_all_actors_and_high_revenue[(df_all_actors_and_high_revenue['cast_1'] == actor)|(df_all_actors_and_high_revenue['cast_2'] == actor)|(df_all_actors_and_high_revenue['cast_3'] == actor)|(df_all_actors_and_high_revenue['cast_4'] == actor)|(df_all_actors_and_high_revenue['cast_5'] == actor)].revenue_adj.mean()\n",
    "    return mean_rev"
   ]
  },
  {
   "cell_type": "code",
   "execution_count": 98,
   "metadata": {},
   "outputs": [],
   "source": [
    "# Calculate the mean revenue per actor\n",
    "df_frequent_actors_and_high_revenue['revenue_mean'] = df_frequent_actors_and_high_revenue['Actor'].apply(mean_rev)"
   ]
  },
  {
   "cell_type": "code",
   "execution_count": 99,
   "metadata": {},
   "outputs": [],
   "source": [
    "# Sort the data frame base on the mean revenue from top to bottom \n",
    "df_frequent_actors_and_high_revenue =df_frequent_actors_and_high_revenue.sort_values(by='revenue_mean', ascending=False, na_position = 'last')"
   ]
  },
  {
   "cell_type": "code",
   "execution_count": 103,
   "metadata": {},
   "outputs": [
    {
     "data": {
      "text/html": [
       "<div>\n",
       "<style scoped>\n",
       "    .dataframe tbody tr th:only-of-type {\n",
       "        vertical-align: middle;\n",
       "    }\n",
       "\n",
       "    .dataframe tbody tr th {\n",
       "        vertical-align: top;\n",
       "    }\n",
       "\n",
       "    .dataframe thead th {\n",
       "        text-align: right;\n",
       "    }\n",
       "</style>\n",
       "<table border=\"1\" class=\"dataframe\">\n",
       "  <thead>\n",
       "    <tr style=\"text-align: right;\">\n",
       "      <th></th>\n",
       "      <th>Actor</th>\n",
       "      <th>MovieActCount</th>\n",
       "      <th>revenue_mean</th>\n",
       "    </tr>\n",
       "  </thead>\n",
       "  <tbody>\n",
       "    <tr>\n",
       "      <th>628</th>\n",
       "      <td>Emma Watson</td>\n",
       "      <td>14.00</td>\n",
       "      <td>632161777.65</td>\n",
       "    </tr>\n",
       "    <tr>\n",
       "      <th>738</th>\n",
       "      <td>Carrie Fisher</td>\n",
       "      <td>13.00</td>\n",
       "      <td>604689053.37</td>\n",
       "    </tr>\n",
       "    <tr>\n",
       "      <th>542</th>\n",
       "      <td>Daniel Radcliffe</td>\n",
       "      <td>16.00</td>\n",
       "      <td>543174511.07</td>\n",
       "    </tr>\n",
       "    <tr>\n",
       "      <th>529</th>\n",
       "      <td>Rupert Grint</td>\n",
       "      <td>16.00</td>\n",
       "      <td>533381252.75</td>\n",
       "    </tr>\n",
       "    <tr>\n",
       "      <th>484</th>\n",
       "      <td>Orlando Bloom</td>\n",
       "      <td>17.00</td>\n",
       "      <td>450035270.44</td>\n",
       "    </tr>\n",
       "    <tr>\n",
       "      <th>418</th>\n",
       "      <td>Mark Hamill</td>\n",
       "      <td>18.00</td>\n",
       "      <td>440308754.08</td>\n",
       "    </tr>\n",
       "    <tr>\n",
       "      <th>296</th>\n",
       "      <td>Ian McKellen</td>\n",
       "      <td>22.00</td>\n",
       "      <td>406131259.38</td>\n",
       "    </tr>\n",
       "    <tr>\n",
       "      <th>576</th>\n",
       "      <td>Julie Andrews</td>\n",
       "      <td>15.00</td>\n",
       "      <td>386634249.08</td>\n",
       "    </tr>\n",
       "    <tr>\n",
       "      <th>302</th>\n",
       "      <td>Will Smith</td>\n",
       "      <td>22.00</td>\n",
       "      <td>357431709.83</td>\n",
       "    </tr>\n",
       "    <tr>\n",
       "      <th>30</th>\n",
       "      <td>Harrison Ford</td>\n",
       "      <td>42.00</td>\n",
       "      <td>355882096.64</td>\n",
       "    </tr>\n",
       "  </tbody>\n",
       "</table>\n",
       "</div>"
      ],
      "text/plain": [
       "                Actor  MovieActCount  revenue_mean\n",
       "628       Emma Watson          14.00  632161777.65\n",
       "738     Carrie Fisher          13.00  604689053.37\n",
       "542  Daniel Radcliffe          16.00  543174511.07\n",
       "529      Rupert Grint          16.00  533381252.75\n",
       "484     Orlando Bloom          17.00  450035270.44\n",
       "418       Mark Hamill          18.00  440308754.08\n",
       "296      Ian McKellen          22.00  406131259.38\n",
       "576     Julie Andrews          15.00  386634249.08\n",
       "302        Will Smith          22.00  357431709.83\n",
       "30      Harrison Ford          42.00  355882096.64"
      ]
     },
     "execution_count": 103,
     "metadata": {},
     "output_type": "execute_result"
    }
   ],
   "source": [
    "#Mean all actors more then 10 movies \n",
    "df_frequent_actors_and_high_revenue.head(10)"
   ]
  },
  {
   "cell_type": "code",
   "execution_count": 104,
   "metadata": {},
   "outputs": [
    {
     "data": {
      "text/html": [
       "<div>\n",
       "<style scoped>\n",
       "    .dataframe tbody tr th:only-of-type {\n",
       "        vertical-align: middle;\n",
       "    }\n",
       "\n",
       "    .dataframe tbody tr th {\n",
       "        vertical-align: top;\n",
       "    }\n",
       "\n",
       "    .dataframe thead th {\n",
       "        text-align: right;\n",
       "    }\n",
       "</style>\n",
       "<table border=\"1\" class=\"dataframe\">\n",
       "  <thead>\n",
       "    <tr style=\"text-align: right;\">\n",
       "      <th></th>\n",
       "      <th>Actor</th>\n",
       "      <th>MovieActCount</th>\n",
       "      <th>revenue_mean</th>\n",
       "    </tr>\n",
       "  </thead>\n",
       "  <tbody>\n",
       "    <tr>\n",
       "      <th>628</th>\n",
       "      <td>Emma Watson</td>\n",
       "      <td>14.00</td>\n",
       "      <td>632161777.65</td>\n",
       "    </tr>\n",
       "    <tr>\n",
       "      <th>738</th>\n",
       "      <td>Carrie Fisher</td>\n",
       "      <td>13.00</td>\n",
       "      <td>604689053.37</td>\n",
       "    </tr>\n",
       "    <tr>\n",
       "      <th>542</th>\n",
       "      <td>Daniel Radcliffe</td>\n",
       "      <td>16.00</td>\n",
       "      <td>543174511.07</td>\n",
       "    </tr>\n",
       "    <tr>\n",
       "      <th>529</th>\n",
       "      <td>Rupert Grint</td>\n",
       "      <td>16.00</td>\n",
       "      <td>533381252.75</td>\n",
       "    </tr>\n",
       "    <tr>\n",
       "      <th>484</th>\n",
       "      <td>Orlando Bloom</td>\n",
       "      <td>17.00</td>\n",
       "      <td>450035270.44</td>\n",
       "    </tr>\n",
       "  </tbody>\n",
       "</table>\n",
       "</div>"
      ],
      "text/plain": [
       "                Actor  MovieActCount  revenue_mean\n",
       "628       Emma Watson          14.00  632161777.65\n",
       "738     Carrie Fisher          13.00  604689053.37\n",
       "542  Daniel Radcliffe          16.00  543174511.07\n",
       "529      Rupert Grint          16.00  533381252.75\n",
       "484     Orlando Bloom          17.00  450035270.44"
      ]
     },
     "execution_count": 104,
     "metadata": {},
     "output_type": "execute_result"
    }
   ],
   "source": [
    "df_frequent_actors_top_five_revenue=df_frequent_actors_and_high_revenue.iloc[0:5]\n",
    "df_frequent_actors_top_five_revenue.head()"
   ]
  },
  {
   "cell_type": "code",
   "execution_count": 105,
   "metadata": {},
   "outputs": [
    {
     "data": {
      "text/plain": [
       "[Text(0,0,'Emma Watson'),\n",
       " Text(0,0,'Carrie Fisher'),\n",
       " Text(0,0,'Daniel Radcliffe'),\n",
       " Text(0,0,'Rupert Grint'),\n",
       " Text(0,0,'Orlando Bloom')]"
      ]
     },
     "execution_count": 105,
     "metadata": {},
     "output_type": "execute_result"
    },
    {
     "data": {
      "image/png": "[encoded data removed]",
      "text/plain": [
       "<matplotlib.figure.Figure at 0x7f6b8de24470>"
      ]
     },
     "metadata": {
      "needs_background": "light"
     },
     "output_type": "display_data"
    }
   ],
   "source": [
    "#get data \n",
    "actors = [1,3,5,7,9]\n",
    "revenue = df_frequent_actors_top_five_revenue.iloc[0:5,2].tolist()\n",
    "labels = ['Emma Watson','Carrie Fisher','Daniel Radcliffe','Rupert Grint','Orlando Bloom']\n",
    "\n",
    "#create a new figure and plot \n",
    "fig = plt.figure(1)\n",
    "ax = fig.add_subplot(111)\n",
    "plt.bar(actors, revenue, tick_label=labels) #plot\n",
    "plt.title('Actors with highest mean revenue overall')\n",
    "plt.xlabel('Actors Names', fontsize=12)\n",
    "plt.ylabel('Revenue Adjusted', fontsize=12)\n",
    "ax.set_xticklabels(labels, rotation = 45, ha=\"right\")"
   ]
  },
  {
   "cell_type": "markdown",
   "metadata": {},
   "source": [
    "### Conclusion Question 2\n",
    "\n",
    "#### Top 5 Actors\n",
    "The top five performer amid the actors which have at least acted in 10 movies and accomplished an average revenue_adj are from top to bottom: \n",
    "\n",
    "* Emma Watson\t\n",
    "* Carrie Fisher\t\n",
    "* Daniel Radcliffe\n",
    "* Rupert Grint\n",
    "* Orlando Bloom\t\n",
    "\n",
    "Acroos the top five directors the mean revenue is 552688373 Dollar!\n",
    "\n",
    "This answer leaves an interesting guess. One could assume that choosing on of the actors above could guarantees an high revenue.\n",
    "#### Limitation:\n",
    "The limitations ragarding the chosen top five actors are the same like the ones for the directors.\n",
    "\n",
    "Finally. Historically the five actors listed above produced based the highest mean revenue in compare to every other actor which have more than 10 movies."
   ]
  },
  {
   "cell_type": "markdown",
   "metadata": {},
   "source": [
    "### Research Question 3: Has one of those categories an obvious higher influence on the revenue_adj?"
   ]
  },
  {
   "cell_type": "code",
   "execution_count": 106,
   "metadata": {},
   "outputs": [],
   "source": [
    "# Prepare dataframe for the cancatenate method\n",
    "\n",
    "df_directors_high_revenue_top_five.reset_index(inplace=True)\n",
    "df_directors = df_directors_high_revenue_top_five.copy()"
   ]
  },
  {
   "cell_type": "code",
   "execution_count": 107,
   "metadata": {},
   "outputs": [
    {
     "data": {
      "text/html": [
       "<div>\n",
       "<style scoped>\n",
       "    .dataframe tbody tr th:only-of-type {\n",
       "        vertical-align: middle;\n",
       "    }\n",
       "\n",
       "    .dataframe tbody tr th {\n",
       "        vertical-align: top;\n",
       "    }\n",
       "\n",
       "    .dataframe thead th {\n",
       "        text-align: right;\n",
       "    }\n",
       "</style>\n",
       "<table border=\"1\" class=\"dataframe\">\n",
       "  <thead>\n",
       "    <tr style=\"text-align: right;\">\n",
       "      <th></th>\n",
       "      <th>index</th>\n",
       "      <th>revenue_adj</th>\n",
       "      <th>revenue_class</th>\n",
       "    </tr>\n",
       "  </thead>\n",
       "  <tbody>\n",
       "    <tr>\n",
       "      <th>0</th>\n",
       "      <td>James Cameron</td>\n",
       "      <td>678091210.46</td>\n",
       "      <td>high</td>\n",
       "    </tr>\n",
       "    <tr>\n",
       "      <th>1</th>\n",
       "      <td>Peter Jackson</td>\n",
       "      <td>546746368.27</td>\n",
       "      <td>high</td>\n",
       "    </tr>\n",
       "    <tr>\n",
       "      <th>2</th>\n",
       "      <td>Steven Spielberg</td>\n",
       "      <td>527251784.75</td>\n",
       "      <td>high</td>\n",
       "    </tr>\n",
       "    <tr>\n",
       "      <th>3</th>\n",
       "      <td>Michael Bay</td>\n",
       "      <td>496424723.48</td>\n",
       "      <td>high</td>\n",
       "    </tr>\n",
       "    <tr>\n",
       "      <th>4</th>\n",
       "      <td>Roland Emmerich</td>\n",
       "      <td>378621451.32</td>\n",
       "      <td>high</td>\n",
       "    </tr>\n",
       "  </tbody>\n",
       "</table>\n",
       "</div>"
      ],
      "text/plain": [
       "              index  revenue_adj revenue_class\n",
       "0     James Cameron 678091210.46          high\n",
       "1     Peter Jackson 546746368.27          high\n",
       "2  Steven Spielberg 527251784.75          high\n",
       "3       Michael Bay 496424723.48          high\n",
       "4   Roland Emmerich 378621451.32          high"
      ]
     },
     "execution_count": 107,
     "metadata": {},
     "output_type": "execute_result"
    }
   ],
   "source": [
    "df_directors_high_revenue_top_five.head()"
   ]
  },
  {
   "cell_type": "code",
   "execution_count": 108,
   "metadata": {},
   "outputs": [
    {
     "data": {
      "text/html": [
       "<div>\n",
       "<style scoped>\n",
       "    .dataframe tbody tr th:only-of-type {\n",
       "        vertical-align: middle;\n",
       "    }\n",
       "\n",
       "    .dataframe tbody tr th {\n",
       "        vertical-align: top;\n",
       "    }\n",
       "\n",
       "    .dataframe thead th {\n",
       "        text-align: right;\n",
       "    }\n",
       "</style>\n",
       "<table border=\"1\" class=\"dataframe\">\n",
       "  <thead>\n",
       "    <tr style=\"text-align: right;\">\n",
       "      <th></th>\n",
       "      <th>index</th>\n",
       "      <th>revenue_adj</th>\n",
       "      <th>revenue_class</th>\n",
       "    </tr>\n",
       "  </thead>\n",
       "  <tbody>\n",
       "    <tr>\n",
       "      <th>0</th>\n",
       "      <td>James Cameron</td>\n",
       "      <td>678091210.46</td>\n",
       "      <td>high</td>\n",
       "    </tr>\n",
       "    <tr>\n",
       "      <th>1</th>\n",
       "      <td>Peter Jackson</td>\n",
       "      <td>546746368.27</td>\n",
       "      <td>high</td>\n",
       "    </tr>\n",
       "    <tr>\n",
       "      <th>2</th>\n",
       "      <td>Steven Spielberg</td>\n",
       "      <td>527251784.75</td>\n",
       "      <td>high</td>\n",
       "    </tr>\n",
       "    <tr>\n",
       "      <th>3</th>\n",
       "      <td>Michael Bay</td>\n",
       "      <td>496424723.48</td>\n",
       "      <td>high</td>\n",
       "    </tr>\n",
       "    <tr>\n",
       "      <th>4</th>\n",
       "      <td>Roland Emmerich</td>\n",
       "      <td>378621451.32</td>\n",
       "      <td>high</td>\n",
       "    </tr>\n",
       "  </tbody>\n",
       "</table>\n",
       "</div>"
      ],
      "text/plain": [
       "              index  revenue_adj revenue_class\n",
       "0     James Cameron 678091210.46          high\n",
       "1     Peter Jackson 546746368.27          high\n",
       "2  Steven Spielberg 527251784.75          high\n",
       "3       Michael Bay 496424723.48          high\n",
       "4   Roland Emmerich 378621451.32          high"
      ]
     },
     "execution_count": 108,
     "metadata": {},
     "output_type": "execute_result"
    }
   ],
   "source": [
    "df_directors_high_revenue_top_five.head()"
   ]
  },
  {
   "cell_type": "code",
   "execution_count": 109,
   "metadata": {},
   "outputs": [
    {
     "name": "stderr",
     "output_type": "stream",
     "text": [
      "/opt/conda/lib/python3.6/site-packages/pandas/core/frame.py:3697: SettingWithCopyWarning: \n",
      "A value is trying to be set on a copy of a slice from a DataFrame\n",
      "\n",
      "See the caveats in the documentation: http://pandas.pydata.org/pandas-docs/stable/indexing.html#indexing-view-versus-copy\n",
      "  errors=errors)\n",
      "/opt/conda/lib/python3.6/site-packages/pandas/core/frame.py:3781: SettingWithCopyWarning: \n",
      "A value is trying to be set on a copy of a slice from a DataFrame\n",
      "\n",
      "See the caveats in the documentation: http://pandas.pydata.org/pandas-docs/stable/indexing.html#indexing-view-versus-copy\n",
      "  return super(DataFrame, self).rename(**kwargs)\n"
     ]
    }
   ],
   "source": [
    "# Prepare dataframe for the cancatenate method\n",
    "df_frequent_actors_top_five_revenue.drop(['MovieActCount'],axis = 1, inplace = True)\n",
    "df_frequent_actors_top_five_revenue.rename(columns={'revenue_mean':'revenue_adj'},inplace = True)\n",
    "df_actors = df_frequent_actors_top_five_revenue.copy()"
   ]
  },
  {
   "cell_type": "code",
   "execution_count": 110,
   "metadata": {},
   "outputs": [
    {
     "data": {
      "text/html": [
       "<div>\n",
       "<style scoped>\n",
       "    .dataframe tbody tr th:only-of-type {\n",
       "        vertical-align: middle;\n",
       "    }\n",
       "\n",
       "    .dataframe tbody tr th {\n",
       "        vertical-align: top;\n",
       "    }\n",
       "\n",
       "    .dataframe thead th {\n",
       "        text-align: right;\n",
       "    }\n",
       "</style>\n",
       "<table border=\"1\" class=\"dataframe\">\n",
       "  <thead>\n",
       "    <tr style=\"text-align: right;\">\n",
       "      <th></th>\n",
       "      <th>Actor</th>\n",
       "      <th>MovieActCount</th>\n",
       "      <th>revenue_mean</th>\n",
       "    </tr>\n",
       "  </thead>\n",
       "  <tbody>\n",
       "    <tr>\n",
       "      <th>628</th>\n",
       "      <td>Emma Watson</td>\n",
       "      <td>14.00</td>\n",
       "      <td>632161777.65</td>\n",
       "    </tr>\n",
       "    <tr>\n",
       "      <th>738</th>\n",
       "      <td>Carrie Fisher</td>\n",
       "      <td>13.00</td>\n",
       "      <td>604689053.37</td>\n",
       "    </tr>\n",
       "    <tr>\n",
       "      <th>542</th>\n",
       "      <td>Daniel Radcliffe</td>\n",
       "      <td>16.00</td>\n",
       "      <td>543174511.07</td>\n",
       "    </tr>\n",
       "    <tr>\n",
       "      <th>529</th>\n",
       "      <td>Rupert Grint</td>\n",
       "      <td>16.00</td>\n",
       "      <td>533381252.75</td>\n",
       "    </tr>\n",
       "    <tr>\n",
       "      <th>484</th>\n",
       "      <td>Orlando Bloom</td>\n",
       "      <td>17.00</td>\n",
       "      <td>450035270.44</td>\n",
       "    </tr>\n",
       "  </tbody>\n",
       "</table>\n",
       "</div>"
      ],
      "text/plain": [
       "                Actor  MovieActCount  revenue_mean\n",
       "628       Emma Watson          14.00  632161777.65\n",
       "738     Carrie Fisher          13.00  604689053.37\n",
       "542  Daniel Radcliffe          16.00  543174511.07\n",
       "529      Rupert Grint          16.00  533381252.75\n",
       "484     Orlando Bloom          17.00  450035270.44"
      ]
     },
     "execution_count": 110,
     "metadata": {},
     "output_type": "execute_result"
    }
   ],
   "source": [
    "df_frequent_actors_and_high_revenue.head()"
   ]
  },
  {
   "cell_type": "code",
   "execution_count": 111,
   "metadata": {},
   "outputs": [],
   "source": [
    "#Add a column for the category of the persons\n",
    "df_actors['category'] = 'actor'\n",
    "df_directors['category'] = 'director'"
   ]
  },
  {
   "cell_type": "code",
   "execution_count": 112,
   "metadata": {},
   "outputs": [],
   "source": [
    "# standardize the columns name for the persons\n",
    "df_actors.rename(columns={'Actor':'Name'},inplace = True)\n",
    "df_directors.rename(columns={'index':'Name'},inplace = True)"
   ]
  },
  {
   "cell_type": "code",
   "execution_count": 113,
   "metadata": {},
   "outputs": [
    {
     "data": {
      "text/html": [
       "<div>\n",
       "<style scoped>\n",
       "    .dataframe tbody tr th:only-of-type {\n",
       "        vertical-align: middle;\n",
       "    }\n",
       "\n",
       "    .dataframe tbody tr th {\n",
       "        vertical-align: top;\n",
       "    }\n",
       "\n",
       "    .dataframe thead th {\n",
       "        text-align: right;\n",
       "    }\n",
       "</style>\n",
       "<table border=\"1\" class=\"dataframe\">\n",
       "  <thead>\n",
       "    <tr style=\"text-align: right;\">\n",
       "      <th></th>\n",
       "      <th>Name</th>\n",
       "      <th>revenue_adj</th>\n",
       "      <th>revenue_class</th>\n",
       "      <th>category</th>\n",
       "    </tr>\n",
       "  </thead>\n",
       "  <tbody>\n",
       "    <tr>\n",
       "      <th>0</th>\n",
       "      <td>James Cameron</td>\n",
       "      <td>678091210.46</td>\n",
       "      <td>high</td>\n",
       "      <td>director</td>\n",
       "    </tr>\n",
       "    <tr>\n",
       "      <th>1</th>\n",
       "      <td>Peter Jackson</td>\n",
       "      <td>546746368.27</td>\n",
       "      <td>high</td>\n",
       "      <td>director</td>\n",
       "    </tr>\n",
       "    <tr>\n",
       "      <th>2</th>\n",
       "      <td>Steven Spielberg</td>\n",
       "      <td>527251784.75</td>\n",
       "      <td>high</td>\n",
       "      <td>director</td>\n",
       "    </tr>\n",
       "    <tr>\n",
       "      <th>3</th>\n",
       "      <td>Michael Bay</td>\n",
       "      <td>496424723.48</td>\n",
       "      <td>high</td>\n",
       "      <td>director</td>\n",
       "    </tr>\n",
       "    <tr>\n",
       "      <th>4</th>\n",
       "      <td>Roland Emmerich</td>\n",
       "      <td>378621451.32</td>\n",
       "      <td>high</td>\n",
       "      <td>director</td>\n",
       "    </tr>\n",
       "  </tbody>\n",
       "</table>\n",
       "</div>"
      ],
      "text/plain": [
       "               Name  revenue_adj revenue_class  category\n",
       "0     James Cameron 678091210.46          high  director\n",
       "1     Peter Jackson 546746368.27          high  director\n",
       "2  Steven Spielberg 527251784.75          high  director\n",
       "3       Michael Bay 496424723.48          high  director\n",
       "4   Roland Emmerich 378621451.32          high  director"
      ]
     },
     "execution_count": 113,
     "metadata": {},
     "output_type": "execute_result"
    }
   ],
   "source": [
    "# Check the prepared data sets\n",
    "df_directors.head()"
   ]
  },
  {
   "cell_type": "code",
   "execution_count": 114,
   "metadata": {},
   "outputs": [
    {
     "data": {
      "text/html": [
       "<div>\n",
       "<style scoped>\n",
       "    .dataframe tbody tr th:only-of-type {\n",
       "        vertical-align: middle;\n",
       "    }\n",
       "\n",
       "    .dataframe tbody tr th {\n",
       "        vertical-align: top;\n",
       "    }\n",
       "\n",
       "    .dataframe thead th {\n",
       "        text-align: right;\n",
       "    }\n",
       "</style>\n",
       "<table border=\"1\" class=\"dataframe\">\n",
       "  <thead>\n",
       "    <tr style=\"text-align: right;\">\n",
       "      <th></th>\n",
       "      <th>Name</th>\n",
       "      <th>revenue_adj</th>\n",
       "      <th>category</th>\n",
       "    </tr>\n",
       "  </thead>\n",
       "  <tbody>\n",
       "    <tr>\n",
       "      <th>628</th>\n",
       "      <td>Emma Watson</td>\n",
       "      <td>632161777.65</td>\n",
       "      <td>actor</td>\n",
       "    </tr>\n",
       "    <tr>\n",
       "      <th>738</th>\n",
       "      <td>Carrie Fisher</td>\n",
       "      <td>604689053.37</td>\n",
       "      <td>actor</td>\n",
       "    </tr>\n",
       "    <tr>\n",
       "      <th>542</th>\n",
       "      <td>Daniel Radcliffe</td>\n",
       "      <td>543174511.07</td>\n",
       "      <td>actor</td>\n",
       "    </tr>\n",
       "    <tr>\n",
       "      <th>529</th>\n",
       "      <td>Rupert Grint</td>\n",
       "      <td>533381252.75</td>\n",
       "      <td>actor</td>\n",
       "    </tr>\n",
       "    <tr>\n",
       "      <th>484</th>\n",
       "      <td>Orlando Bloom</td>\n",
       "      <td>450035270.44</td>\n",
       "      <td>actor</td>\n",
       "    </tr>\n",
       "  </tbody>\n",
       "</table>\n",
       "</div>"
      ],
      "text/plain": [
       "                 Name  revenue_adj category\n",
       "628       Emma Watson 632161777.65    actor\n",
       "738     Carrie Fisher 604689053.37    actor\n",
       "542  Daniel Radcliffe 543174511.07    actor\n",
       "529      Rupert Grint 533381252.75    actor\n",
       "484     Orlando Bloom 450035270.44    actor"
      ]
     },
     "execution_count": 114,
     "metadata": {},
     "output_type": "execute_result"
    }
   ],
   "source": [
    "df_actors.head()"
   ]
  },
  {
   "cell_type": "code",
   "execution_count": 115,
   "metadata": {},
   "outputs": [
    {
     "name": "stderr",
     "output_type": "stream",
     "text": [
      "/opt/conda/lib/python3.6/site-packages/ipykernel_launcher.py:2: FutureWarning: Sorting because non-concatenation axis is not aligned. A future version\n",
      "of pandas will change to not sort by default.\n",
      "\n",
      "To accept the future behavior, pass 'sort=False'.\n",
      "\n",
      "To retain the current behavior and silence the warning, pass 'sort=True'.\n",
      "\n",
      "  \n"
     ]
    }
   ],
   "source": [
    "# Create a new concatenate datsframe for plotting \n",
    "new_concate_dataset = pd.concat([df_actors,df_directors],axis=0)\n",
    "new_concate_dataset.sort_values(['revenue_adj'],ascending = False,inplace=True)"
   ]
  },
  {
   "cell_type": "code",
   "execution_count": 116,
   "metadata": {},
   "outputs": [
    {
     "data": {
      "image/png": "[encoded data removed]",
      "text/plain": [
       "<matplotlib.figure.Figure at 0x7f6b925ecba8>"
      ]
     },
     "metadata": {
      "needs_background": "light"
     },
     "output_type": "display_data"
    }
   ],
   "source": [
    "#get data\n",
    "names_act = new_concate_dataset[new_concate_dataset['category']=='actor']['Name'].tolist()\n",
    "x = np.arange(len(names_act))\n",
    "revenue_act = new_concate_dataset[new_concate_dataset['category']=='actor']['revenue_adj'].tolist()\n",
    "revenue_director = new_concate_dataset[new_concate_dataset['category']=='director']['revenue_adj'].tolist()\n",
    "width = 0.35\n",
    "# Plot\n",
    "fig, ax = plt.subplots(figsize=(8,5))\n",
    "ax.bar(x- width/2,revenue_act,width,label='actor')\n",
    "ax.bar(x+ width/2, revenue_director,width, label='director')\n",
    "\n",
    "# Add some text for labels, title and custom x-axis tick labels, etc.\n",
    "ax.set_ylabel('revenue_adj',fontsize=12)\n",
    "ax.set_title('Avg Revenue Adjusted -- Director v.s. Actor')\n",
    "ax.legend()\n",
    "\n",
    "plt.show()"
   ]
  },
  {
   "cell_type": "markdown",
   "metadata": {},
   "source": [
    "### Challenge the Assumption that actors produce more average revenue"
   ]
  },
  {
   "cell_type": "code",
   "execution_count": 117,
   "metadata": {},
   "outputs": [],
   "source": [
    "# Take the avergae director dataset and prepare it for \n",
    "df_avg_per_directors.reset_index(inplace=True)\n",
    "df_avg_per_directors.drop(['revenue_class'],axis=1,inplace=True)\n",
    "df_avg_per_directors.rename(columns={'index':'Director'},inplace = True)\n"
   ]
  },
  {
   "cell_type": "code",
   "execution_count": 118,
   "metadata": {},
   "outputs": [
    {
     "data": {
      "image/png": "[encoded data removed]",
      "text/plain": [
       "<matplotlib.figure.Figure at 0x7f6b8d75bdd8>"
      ]
     },
     "metadata": {
      "needs_background": "light"
     },
     "output_type": "display_data"
    }
   ],
   "source": [
    "# Create figure and define size \n",
    "fig = plt.figure(figsize=(10,6))\n",
    "ax1 = fig.add_subplot(111) \n",
    "ax2 = ax1.twiny() # Create second axis \n",
    "\n",
    "# Gather data and prepare for the plot \n",
    "x_one = np.arange(0,len(df_avg_per_directors.index)).tolist()\n",
    "x_two = np.arange(0,len(df_frequent_actors_and_high_revenue.index)).tolist()\n",
    "y_one = df_avg_per_directors['revenue_adj'].tolist()\n",
    "y_two = df_frequent_actors_and_high_revenue['revenue_mean'].tolist()\n",
    "\n",
    "# PLot the data and define color and marker for Actor and Director\n",
    "plot_one = ax1.scatter(x_one, y_one, c='b', marker=\"x\")\n",
    "plot_two = ax2.scatter(x_two, y_two, c='r', marker=\"o\")\n",
    "\n",
    "# Give every axis a label\n",
    "ax1.set_ylabel(\"Avg Revenue Adjusted\",fontsize=16)\n",
    "ax1.set_xlabel(\"Directors 1- 947\",fontsize=12)\n",
    "ax2.set_xlabel(\"Actors 1- 947\",fontsize=12)\n",
    "\n",
    "# set the legend in the upper right of the figure \n",
    "ax1.legend([plot_one,plot_two],['Directors', 'Actors'],fontsize=12)\n",
    "plt.show()"
   ]
  },
  {
   "cell_type": "markdown",
   "metadata": {},
   "source": [
    "### Conclusion Question 3\n",
    "\n",
    "#### Does the top 5 directors or actor show an obvious higher mean revenue\n",
    "The top five performer amid the actors and directors which have at least acted or directed in 10 movies and accomplished show almost similar mean revenues. The plot shows a somehow slidely higher revenue across the actors in compare to the director. Nevertheless, the top director shows higher revenue than the top actor.\n",
    "\n",
    "A rough guess would be that the actors in average produce an higher revenue than the directors.\n",
    "\n",
    "##### Challenge the Assumption that actors produce more average revenue \n",
    "For getting an overview about the average revenue adjusted for two filtered datasets:\n",
    "* Actors that acted in more then 10 movies\n",
    "* Directors that produced more then 10 movie \n",
    "\n",
    "The plot shows the revenue adjusted acroos all revenue classes. From \"very low\" up to \"high\". Even after having the full overview, there is no clear picture. Whether the director ot the actor produce an significant higher revenue. It seems that there is a slidely higher average revenue adjusted for the directors for the area of \"higher\" revenue (>1,5 e^8). Due to the fact that the amount of directors is 1/10 of the amount of actors, this assumption remains blurry.  \n",
    "\n",
    "#### Limitation:\n",
    "Since the plot only shows a subset across the top five actors with more then 10 movies it is difficult to make a clear statement. The question whether actors or directors produce higher revenue can't be answered with a high eveidence due to the filtering of the data. However it can be answered for the top performer, at least.\n",
    "\n",
    "To answer this quesation a new dataset could be created. This would need to have the roughly same amount of actors an directors as well as the same filtering regarding the years of production. Even with the revenue adjusted it became obvious that the movie business durign the recent time made much more money.\n"
   ]
  }
 ],
 "metadata": {
  "kernelspec": {
   "display_name": "Python 3",
   "language": "python",
   "name": "python3"
  },
  "language_info": {
   "codemirror_mode": {
    "name": "ipython",
    "version": 3
   },
   "file_extension": ".py",
   "mimetype": "text/x-python",
   "name": "python",
   "nbconvert_exporter": "python",
   "pygments_lexer": "ipython3",
   "version": "3.6.3"
  }
 },
 "nbformat": 4,
 "nbformat_minor": 2
}
